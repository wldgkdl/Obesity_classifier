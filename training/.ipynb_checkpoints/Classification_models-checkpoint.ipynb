{
 "cells": [
  {
   "cell_type": "markdown",
   "id": "expired-mechanics",
   "metadata": {},
   "source": [
    "# 1. Data preprocessing #"
   ]
  },
  {
   "cell_type": "markdown",
   "id": "adjusted-certificate",
   "metadata": {},
   "source": [
    "#### Import related libraries for data preprocessing ####"
   ]
  },
  {
   "cell_type": "code",
   "execution_count": 1,
   "id": "interesting-opera",
   "metadata": {},
   "outputs": [],
   "source": [
    "import pandas as pd\n",
    "import numpy as np\n",
    "import matplotlib.pyplot as plt\n",
    "# from sklearn.model_selection import train_test_split\n",
    "# from sklearn.model_selection import GroupShuffleSplit\n",
    "from sklearn.model_selection import StratifiedShuffleSplit"
   ]
  },
  {
   "cell_type": "markdown",
   "id": "b49b4056",
   "metadata": {},
   "source": [
    "#### Import dataset ####"
   ]
  },
  {
   "cell_type": "code",
   "execution_count": 2,
   "id": "7c9621c6",
   "metadata": {},
   "outputs": [],
   "source": [
    "original_data = pd.read_csv(\"../data/500_Person_Gender_Height_Weight_Index.csv\")"
   ]
  },
  {
   "cell_type": "code",
   "execution_count": 3,
   "id": "0a15a7b2",
   "metadata": {},
   "outputs": [
    {
     "data": {
      "text/html": [
       "<div>\n",
       "<style scoped>\n",
       "    .dataframe tbody tr th:only-of-type {\n",
       "        vertical-align: middle;\n",
       "    }\n",
       "\n",
       "    .dataframe tbody tr th {\n",
       "        vertical-align: top;\n",
       "    }\n",
       "\n",
       "    .dataframe thead th {\n",
       "        text-align: right;\n",
       "    }\n",
       "</style>\n",
       "<table border=\"1\" class=\"dataframe\">\n",
       "  <thead>\n",
       "    <tr style=\"text-align: right;\">\n",
       "      <th></th>\n",
       "      <th>Gender</th>\n",
       "      <th>Height</th>\n",
       "      <th>Weight</th>\n",
       "      <th>Index</th>\n",
       "    </tr>\n",
       "  </thead>\n",
       "  <tbody>\n",
       "    <tr>\n",
       "      <th>0</th>\n",
       "      <td>Male</td>\n",
       "      <td>174</td>\n",
       "      <td>96</td>\n",
       "      <td>4</td>\n",
       "    </tr>\n",
       "    <tr>\n",
       "      <th>1</th>\n",
       "      <td>Male</td>\n",
       "      <td>189</td>\n",
       "      <td>87</td>\n",
       "      <td>2</td>\n",
       "    </tr>\n",
       "    <tr>\n",
       "      <th>2</th>\n",
       "      <td>Female</td>\n",
       "      <td>185</td>\n",
       "      <td>110</td>\n",
       "      <td>4</td>\n",
       "    </tr>\n",
       "    <tr>\n",
       "      <th>3</th>\n",
       "      <td>Female</td>\n",
       "      <td>195</td>\n",
       "      <td>104</td>\n",
       "      <td>3</td>\n",
       "    </tr>\n",
       "    <tr>\n",
       "      <th>4</th>\n",
       "      <td>Male</td>\n",
       "      <td>149</td>\n",
       "      <td>61</td>\n",
       "      <td>3</td>\n",
       "    </tr>\n",
       "  </tbody>\n",
       "</table>\n",
       "</div>"
      ],
      "text/plain": [
       "   Gender  Height  Weight  Index\n",
       "0    Male     174      96      4\n",
       "1    Male     189      87      2\n",
       "2  Female     185     110      4\n",
       "3  Female     195     104      3\n",
       "4    Male     149      61      3"
      ]
     },
     "execution_count": 3,
     "metadata": {},
     "output_type": "execute_result"
    }
   ],
   "source": [
    "original_data.head()"
   ]
  },
  {
   "cell_type": "markdown",
   "id": "60ed956d",
   "metadata": {},
   "source": [
    "#### Specify index information ####"
   ]
  },
  {
   "cell_type": "code",
   "execution_count": 4,
   "id": "6050b1ec",
   "metadata": {},
   "outputs": [],
   "source": [
    "index_info = ['Extremly weak', 'Weak', 'Normal', \n",
    "              'Overweight','Obesity','Extreme obesity']"
   ]
  },
  {
   "cell_type": "markdown",
   "id": "f3a0709b",
   "metadata": {},
   "source": [
    "#### Check the ratio of obesity with original data ####"
   ]
  },
  {
   "cell_type": "code",
   "execution_count": 5,
   "id": "de1486ea",
   "metadata": {},
   "outputs": [
    {
     "name": "stdout",
     "output_type": "stream",
     "text": [
      "Extremly weak: 2.6%\n",
      "Weak: 4.4%\n",
      "Normal: 13.8%\n",
      "Overweight: 13.6%\n",
      "Obesity: 26.0%\n",
      "Extreme obesity: 39.6%\n"
     ]
    }
   ],
   "source": [
    "total_ratio = original_data['Index'].value_counts()/len(original_data['Index'])\n",
    "for i in range(len(total_ratio)):\n",
    "    print(index_info[i] + \": \" + str(round(total_ratio[i]*100, 1)) + \"%\")"
   ]
  },
  {
   "cell_type": "markdown",
   "id": "86c7a60a",
   "metadata": {},
   "source": [
    "#### Check missing values ####"
   ]
  },
  {
   "cell_type": "code",
   "execution_count": 6,
   "id": "663872b8",
   "metadata": {},
   "outputs": [
    {
     "name": "stdout",
     "output_type": "stream",
     "text": [
      " \n",
      "show the boolean Dataframe : \n",
      "\n",
      "      Gender  Height  Weight  Index\n",
      "0     False   False   False  False\n",
      "1     False   False   False  False\n",
      "2     False   False   False  False\n",
      "3     False   False   False  False\n",
      "4     False   False   False  False\n",
      "..      ...     ...     ...    ...\n",
      "495   False   False   False  False\n",
      "496   False   False   False  False\n",
      "497   False   False   False  False\n",
      "498   False   False   False  False\n",
      "499   False   False   False  False\n",
      "\n",
      "[500 rows x 4 columns]\n",
      " \n",
      "Count total NaN at each column in a DataFrame : \n",
      "\n",
      " Gender    0\n",
      "Height    0\n",
      "Weight    0\n",
      "Index     0\n",
      "dtype: int64\n"
     ]
    }
   ],
   "source": [
    "print(\" \\nshow the boolean Dataframe : \\n\\n\", original_data.isnull())\n",
    "  \n",
    "# Count total NaN at each column in a DataFrame\n",
    "print(\" \\nCount total NaN at each column in a DataFrame : \\n\\n\",\n",
    "      original_data.isnull().sum())"
   ]
  },
  {
   "cell_type": "markdown",
   "id": "ffc1fafc",
   "metadata": {},
   "source": [
    "#### Data split ####"
   ]
  },
  {
   "cell_type": "code",
   "execution_count": 7,
   "id": "8e7508d0",
   "metadata": {},
   "outputs": [],
   "source": [
    "split = StratifiedShuffleSplit(n_splits=1, test_size=0.2, random_state=1004)\n",
    "for train_idx, test_idx in split.split(original_data, original_data['Index']):\n",
    "    train = original_data.loc[train_idx]\n",
    "    test = original_data.loc[test_idx]"
   ]
  },
  {
   "cell_type": "markdown",
   "id": "eecce554",
   "metadata": {},
   "source": [
    "#### Check the ratio of obesity with test data ####"
   ]
  },
  {
   "cell_type": "code",
   "execution_count": 8,
   "id": "e28ba413",
   "metadata": {},
   "outputs": [
    {
     "name": "stdout",
     "output_type": "stream",
     "text": [
      "Extremly weak: 3.0%\n",
      "Weak: 4.0%\n",
      "Normal: 14.0%\n",
      "Overweight: 14.0%\n",
      "Obesity: 26.0%\n",
      "Extreme obesity: 39.0%\n"
     ]
    }
   ],
   "source": [
    "test_ratio = test['Index'].value_counts()/len(test['Index'])\n",
    "for i in range(len(test_ratio)):\n",
    "    print(index_info[i] + \": \" + str(round(test_ratio[i]*100, 1)) + \"%\")"
   ]
  },
  {
   "cell_type": "markdown",
   "id": "a4d0a5c7",
   "metadata": {},
   "source": [
    "#### Check the difference on data proportion between original data and test data #### "
   ]
  },
  {
   "cell_type": "code",
   "execution_count": 9,
   "id": "4b1c40e8",
   "metadata": {},
   "outputs": [
    {
     "data": {
      "text/plain": [
       "0   -0.004\n",
       "1    0.004\n",
       "2   -0.002\n",
       "3   -0.004\n",
       "4    0.000\n",
       "5    0.006\n",
       "Name: Index, dtype: float64"
      ]
     },
     "execution_count": 9,
     "metadata": {},
     "output_type": "execute_result"
    }
   ],
   "source": [
    "group_ratio_diff = total_ratio - test_ratio\n",
    "group_ratio_diff\n",
    "    "
   ]
  },
  {
   "cell_type": "markdown",
   "id": "cd1b7f7d",
   "metadata": {},
   "source": [
    "#### Split data into features and target variable ####"
   ]
  },
  {
   "cell_type": "code",
   "execution_count": 10,
   "id": "ddd6752d",
   "metadata": {},
   "outputs": [],
   "source": [
    "train_X = train.iloc[:, 0:3]\n",
    "train_y = train.iloc[:, 3:]\n",
    "test_X = test.iloc[:, 0:3]\n",
    "test_y = test.iloc[:, 3:]"
   ]
  },
  {
   "cell_type": "markdown",
   "id": "psychological-apple",
   "metadata": {},
   "source": [
    "# 2. Exploratoly Data Analytics #"
   ]
  },
  {
   "cell_type": "code",
   "execution_count": 11,
   "id": "72281d28",
   "metadata": {},
   "outputs": [],
   "source": [
    "import seaborn as sns"
   ]
  },
  {
   "cell_type": "markdown",
   "id": "e93b14ca",
   "metadata": {},
   "source": [
    "#### Visualize Height and Weight group by gender ####"
   ]
  },
  {
   "cell_type": "code",
   "execution_count": 12,
   "id": "b1f89f0c",
   "metadata": {},
   "outputs": [
    {
     "data": {
      "text/plain": [
       "<AxesSubplot:xlabel='Weight', ylabel='Height'>"
      ]
     },
     "execution_count": 12,
     "metadata": {},
     "output_type": "execute_result"
    },
    {
     "data": {
      "image/png": "[encoded data removed]",
      "text/plain": [
       "<Figure size 864x576 with 1 Axes>"
      ]
     },
     "metadata": {},
     "output_type": "display_data"
    }
   ],
   "source": [
    "sns.set(rc={'figure.figsize':(12,8)})\n",
    "sns.scatterplot(x='Weight', y='Height', hue='Gender', data=train_X)"
   ]
  },
  {
   "cell_type": "markdown",
   "id": "2b5b0cec",
   "metadata": {},
   "source": [
    "#### Visualize Height and Weight group by obesity ####"
   ]
  },
  {
   "cell_type": "code",
   "execution_count": 13,
   "id": "c58a21bd",
   "metadata": {},
   "outputs": [
    {
     "data": {
      "text/plain": [
       "<AxesSubplot:xlabel='Weight', ylabel='Height'>"
      ]
     },
     "execution_count": 13,
     "metadata": {},
     "output_type": "execute_result"
    },
    {
     "data": {
      "image/png": "[encoded data removed]",
      "text/plain": [
       "<Figure size 864x576 with 1 Axes>"
      ]
     },
     "metadata": {},
     "output_type": "display_data"
    }
   ],
   "source": [
    "sns.scatterplot(x='Weight', y='Height', hue='Index', data=train)"
   ]
  },
  {
   "cell_type": "markdown",
   "id": "charitable-condition",
   "metadata": {},
   "source": [
    "# Modeling #"
   ]
  },
  {
   "cell_type": "markdown",
   "id": "fiscal-button",
   "metadata": {},
   "source": [
    "### Decision Tree ###"
   ]
  },
  {
   "cell_type": "markdown",
   "id": "46e1f13c",
   "metadata": {},
   "source": [
    "#### Preprocessing ####"
   ]
  },
  {
   "cell_type": "code",
   "execution_count": 14,
   "id": "26917836",
   "metadata": {},
   "outputs": [],
   "source": [
    "from sklearn import tree"
   ]
  },
  {
   "cell_type": "code",
   "execution_count": 17,
   "id": "057a8469",
   "metadata": {},
   "outputs": [],
   "source": [
    "train_X.Gender = train_X.Gender.astype('category')"
   ]
  },
  {
   "cell_type": "code",
   "execution_count": 18,
   "id": "dc557ab0",
   "metadata": {},
   "outputs": [],
   "source": [
    "cleanup_nums = {\"Gender\": {\"Male\": 0, \"Female\": 1}}"
   ]
  },
  {
   "cell_type": "code",
   "execution_count": 19,
   "id": "68a9cb40",
   "metadata": {},
   "outputs": [],
   "source": [
    "train_X = train_X.replace(cleanup_nums)\n",
    "test_X = test_X.replace(cleanup_nums)"
   ]
  },
  {
   "cell_type": "code",
   "execution_count": 20,
   "id": "9f91f653",
   "metadata": {},
   "outputs": [],
   "source": [
    "train_X.Gender = train_X.Gender.astype('category')\n",
    "test_X.Gender = test_X.Gender.astype('category')\n",
    "train_y.Index = train_y.Index.astype('category')\n",
    "test_y.Index = test_y.Index.astype('category')"
   ]
  },
  {
   "cell_type": "markdown",
   "id": "e96a70c8",
   "metadata": {},
   "source": [
    "#### Training and inferencing ####"
   ]
  },
  {
   "cell_type": "code",
   "execution_count": 77,
   "id": "ae82d41f",
   "metadata": {},
   "outputs": [],
   "source": [
    "clf = tree.DecisionTreeClassifier()              \n",
    "clf = clf.fit(train_X, train_y)"
   ]
  },
  {
   "cell_type": "code",
   "execution_count": 95,
   "id": "7a3abc11",
   "metadata": {},
   "outputs": [
    {
     "name": "stdout",
     "output_type": "stream",
     "text": [
      "Train Accuracy : 1.000\n",
      "Test Accuracy : 0.860\n"
     ]
    }
   ],
   "source": [
    "print(\"Train Accuracy : {:.3f}\".format(clf.score(train_X,train_y)))\n",
    "print(\"Test Accuracy : {:.3f}\".format(clf.score(test_X,test_y)))"
   ]
  },
  {
   "cell_type": "code",
   "execution_count": 79,
   "id": "e3d5edfb",
   "metadata": {},
   "outputs": [
    {
     "name": "stdout",
     "output_type": "stream",
     "text": [
      "146\n",
      "85\n",
      "Actual obesity: Obesity\n",
      "[0. 0. 0. 0. 0. 1.]\n",
      "Predicted as: Extreme obesity\n",
      "========================================\n",
      "169\n",
      "88\n",
      "Actual obesity: Normal\n",
      "[0. 0. 0. 0. 1. 0.]\n",
      "Predicted as: Obesity\n",
      "========================================\n",
      "168\n",
      "50\n",
      "Actual obesity: Weak\n",
      "[0. 0. 1. 0. 0. 0.]\n",
      "Predicted as: Normal\n",
      "========================================\n",
      "154\n",
      "96\n",
      "Actual obesity: Extreme obesity\n",
      "[0. 0. 0. 0. 1. 0.]\n",
      "Predicted as: Obesity\n",
      "========================================\n",
      "192\n",
      "108\n",
      "Actual obesity: Overweight\n",
      "[0. 0. 0. 0. 1. 0.]\n",
      "Predicted as: Obesity\n",
      "========================================\n",
      "144\n",
      "80\n",
      "Actual obesity: Obesity\n",
      "[0. 0. 0. 0. 0. 1.]\n",
      "Predicted as: Extreme obesity\n",
      "========================================\n",
      "157\n",
      "60\n",
      "Actual obesity: Normal\n",
      "[0. 0. 0. 1. 0. 0.]\n",
      "Predicted as: Overweight\n",
      "========================================\n",
      "180\n",
      "60\n",
      "Actual obesity: Normal\n",
      "[0. 1. 0. 0. 0. 0.]\n",
      "Predicted as: Weak\n",
      "========================================\n",
      "168\n",
      "115\n",
      "Actual obesity: Overweight\n",
      "[0. 0. 0. 0. 1. 0.]\n",
      "Predicted as: Obesity\n",
      "========================================\n",
      "147\n",
      "84\n",
      "Actual obesity: Obesity\n",
      "[0. 0. 0. 0. 0. 1.]\n",
      "Predicted as: Extreme obesity\n",
      "========================================\n",
      "173\n",
      "82\n",
      "Actual obesity: Normal\n",
      "[0. 0. 0. 0. 1. 0.]\n",
      "Predicted as: Obesity\n",
      "========================================\n",
      "145\n",
      "79\n",
      "Actual obesity: Obesity\n",
      "[0. 0. 0. 0. 0. 1.]\n",
      "Predicted as: Extreme obesity\n",
      "========================================\n",
      "158\n",
      "95\n",
      "Actual obesity: Obesity\n",
      "[0. 0. 0. 0. 0. 1.]\n",
      "Predicted as: Extreme obesity\n",
      "========================================\n",
      "178\n",
      "79\n",
      "Actual obesity: Normal\n",
      "[0. 0. 0. 1. 0. 0.]\n",
      "Predicted as: Overweight\n",
      "========================================\n"
     ]
    }
   ],
   "source": [
    "for i in range(100):\n",
    "    if list(test_y['Index'])[i] != res_pred[i]:\n",
    "        print(test_X.iloc[i, :]['Height'])\n",
    "        print(test_X.iloc[i, :]['Weight'])\n",
    "        print(\"Actual obesity:\",index_info[list(test_y['Index'])[i]])\n",
    "        print(clf.predict_proba(test_X)[i])\n",
    "        print(\"Predicted as:\",index_info[res_pred[i]])\n",
    "        print(\"=\"*40)"
   ]
  },
  {
   "cell_type": "markdown",
   "id": "61609bb5",
   "metadata": {},
   "source": [
    "#### Grid Search ####"
   ]
  },
  {
   "cell_type": "code",
   "execution_count": 80,
   "id": "81badca4",
   "metadata": {},
   "outputs": [],
   "source": [
    "from sklearn.model_selection import GridSearchCV"
   ]
  },
  {
   "cell_type": "code",
   "execution_count": 81,
   "id": "306bfcf9",
   "metadata": {},
   "outputs": [],
   "source": [
    "param_dict = {\n",
    "    \"criterion\": ['gini', 'entropy'],\n",
    "    \"max_depth\": range(2, 10),\n",
    "    \"min_samples_leaf\": range(2, 10)\n",
    "}"
   ]
  },
  {
   "cell_type": "code",
   "execution_count": 82,
   "id": "d3d1345e",
   "metadata": {},
   "outputs": [],
   "source": [
    "clf_grid = tree.DecisionTreeClassifier()   "
   ]
  },
  {
   "cell_type": "code",
   "execution_count": 83,
   "id": "68eec129",
   "metadata": {},
   "outputs": [
    {
     "name": "stdout",
     "output_type": "stream",
     "text": [
      "Fitting 5 folds for each of 128 candidates, totalling 640 fits\n"
     ]
    },
    {
     "data": {
      "text/plain": [
       "GridSearchCV(cv=5, estimator=DecisionTreeClassifier(), n_jobs=-1,\n",
       "             param_grid={'criterion': ['gini', 'entropy'],\n",
       "                         'max_depth': range(2, 10),\n",
       "                         'min_samples_leaf': range(2, 10)},\n",
       "             verbose=1)"
      ]
     },
     "execution_count": 83,
     "metadata": {},
     "output_type": "execute_result"
    }
   ],
   "source": [
    "grid = GridSearchCV(clf_grid, \n",
    "        param_grid = param_dict,\n",
    "       cv = 5,\n",
    "       verbose = 1,\n",
    "       n_jobs = -1)\n",
    "grid.fit(train_X, train_y)"
   ]
  },
  {
   "cell_type": "code",
   "execution_count": 84,
   "id": "bb8e035a",
   "metadata": {},
   "outputs": [
    {
     "data": {
      "text/plain": [
       "{'criterion': 'gini', 'max_depth': 7, 'min_samples_leaf': 4}"
      ]
     },
     "execution_count": 84,
     "metadata": {},
     "output_type": "execute_result"
    }
   ],
   "source": [
    "grid.best_params_"
   ]
  },
  {
   "cell_type": "markdown",
   "id": "0fd330e7",
   "metadata": {},
   "source": [
    "#### Retrain after GridSearch ####"
   ]
  },
  {
   "cell_type": "code",
   "execution_count": 85,
   "id": "9790f290",
   "metadata": {},
   "outputs": [
    {
     "data": {
      "text/plain": [
       "0.87"
      ]
     },
     "execution_count": 85,
     "metadata": {},
     "output_type": "execute_result"
    }
   ],
   "source": [
    "clf_after_grid = tree.DecisionTreeClassifier(criterion='gini', max_depth=7, min_samples_leaf=4)              \n",
    "clf_after_grid = clf_after_grid.fit(train_X, train_y)"
   ]
  },
  {
   "cell_type": "code",
   "execution_count": 94,
   "id": "4b406853",
   "metadata": {},
   "outputs": [
    {
     "name": "stdout",
     "output_type": "stream",
     "text": [
      "Train Accuracy : 0.930\n",
      "Test Accuracy : 0.870\n"
     ]
    }
   ],
   "source": [
    "print(\"Train Accuracy : {:.3f}\".format(clf_after_grid.score(train_X,train_y)))\n",
    "print(\"Test Accuracy : {:.3f}\".format(clf_after_grid.score(test_X,test_y)))"
   ]
  },
  {
   "cell_type": "markdown",
   "id": "80baffac",
   "metadata": {},
   "source": [
    "#### Save trained model ####"
   ]
  },
  {
   "cell_type": "code",
   "execution_count": 14,
   "id": "fa05ad58",
   "metadata": {},
   "outputs": [],
   "source": [
    "from joblib import dump, load\n",
    "#dump(clf_after_grid, '../trained_models/clf_after_grid.joblib')\n",
    "#saved_clf = load('../trained_models/clf_after_grid.joblib')"
   ]
  },
  {
   "cell_type": "markdown",
   "id": "satisfactory-feeding",
   "metadata": {},
   "source": [
    "### Random Forest ###"
   ]
  },
  {
   "cell_type": "code",
   "execution_count": 91,
   "id": "95f5a16d",
   "metadata": {},
   "outputs": [],
   "source": [
    "from sklearn.ensemble import RandomForestClassifier"
   ]
  },
  {
   "cell_type": "markdown",
   "id": "75574a1f",
   "metadata": {},
   "source": [
    "#### Train the random forest model with default setting ####"
   ]
  },
  {
   "cell_type": "code",
   "execution_count": 92,
   "id": "66397fc7",
   "metadata": {},
   "outputs": [
    {
     "name": "stderr",
     "output_type": "stream",
     "text": [
      "/Users/junghwankim/opt/anaconda3/envs/test_heroku/lib/python3.7/site-packages/ipykernel_launcher.py:2: DataConversionWarning: A column-vector y was passed when a 1d array was expected. Please change the shape of y to (n_samples,), for example using ravel().\n",
      "  \n",
      "/Users/junghwankim/opt/anaconda3/envs/test_heroku/lib/python3.7/site-packages/sklearn/base.py:446: UserWarning: X does not have valid feature names, but RandomForestClassifier was fitted with feature names\n",
      "  \"X does not have valid feature names, but\"\n"
     ]
    },
    {
     "data": {
      "text/plain": [
       "RandomForestClassifier(n_jobs=-1, oob_score=True, random_state=3077)"
      ]
     },
     "execution_count": 92,
     "metadata": {},
     "output_type": "execute_result"
    }
   ],
   "source": [
    "RFC = RandomForestClassifier(100, oob_score=True, n_jobs=-1, random_state=3077)\n",
    "RFC.fit(train_X, train_y)"
   ]
  },
  {
   "cell_type": "code",
   "execution_count": 93,
   "id": "bee8f674",
   "metadata": {},
   "outputs": [
    {
     "name": "stdout",
     "output_type": "stream",
     "text": [
      "Train Accuracy : 1.000\n",
      "Test Accuracy : 0.900\n"
     ]
    }
   ],
   "source": [
    "print(\"Train Accuracy : {:.3f}\".format(RFC.score(train_X,train_y)))\n",
    "print(\"Test Accuracy : {:.3f}\".format(RFC.score(test_X,test_y)))"
   ]
  },
  {
   "cell_type": "markdown",
   "id": "d5df47f8",
   "metadata": {},
   "source": [
    "#### Grid search for RF ####"
   ]
  },
  {
   "cell_type": "code",
   "execution_count": 97,
   "id": "4bf372ab",
   "metadata": {},
   "outputs": [],
   "source": [
    "parameters = {'n_estimators' : [50,100,200,300],\n",
    "              'criterion': ['gini','entropy'],\n",
    "              'max_depth' : [5,7,9,11],\n",
    "              'max_features' : ['auto','sqrt']}"
   ]
  },
  {
   "cell_type": "code",
   "execution_count": 98,
   "id": "959a2d2a",
   "metadata": {},
   "outputs": [],
   "source": [
    "RF_grid = GridSearchCV(estimator=RFC, param_grid=parameters,\n",
    "                  scoring='accuracy', cv=5, n_jobs=-1,verbose=True)"
   ]
  },
  {
   "cell_type": "code",
   "execution_count": 99,
   "id": "84d7724f",
   "metadata": {},
   "outputs": [
    {
     "name": "stdout",
     "output_type": "stream",
     "text": [
      "Fitting 5 folds for each of 64 candidates, totalling 320 fits\n"
     ]
    },
    {
     "name": "stderr",
     "output_type": "stream",
     "text": [
      "/Users/junghwankim/opt/anaconda3/envs/test_heroku/lib/python3.7/site-packages/sklearn/model_selection/_validation.py:681: DataConversionWarning: A column-vector y was passed when a 1d array was expected. Please change the shape of y to (n_samples,), for example using ravel().\n",
      "  estimator.fit(X_train, y_train, **fit_params)\n",
      "/Users/junghwankim/opt/anaconda3/envs/test_heroku/lib/python3.7/site-packages/sklearn/base.py:446: UserWarning: X does not have valid feature names, but RandomForestClassifier was fitted with feature names\n",
      "  \"X does not have valid feature names, but\"\n",
      "/Users/junghwankim/opt/anaconda3/envs/test_heroku/lib/python3.7/site-packages/sklearn/model_selection/_validation.py:681: DataConversionWarning: A column-vector y was passed when a 1d array was expected. Please change the shape of y to (n_samples,), for example using ravel().\n",
      "  estimator.fit(X_train, y_train, **fit_params)\n",
      "/Users/junghwankim/opt/anaconda3/envs/test_heroku/lib/python3.7/site-packages/sklearn/base.py:446: UserWarning: X does not have valid feature names, but RandomForestClassifier was fitted with feature names\n",
      "  \"X does not have valid feature names, but\"\n",
      "/Users/junghwankim/opt/anaconda3/envs/test_heroku/lib/python3.7/site-packages/sklearn/model_selection/_validation.py:681: DataConversionWarning: A column-vector y was passed when a 1d array was expected. Please change the shape of y to (n_samples,), for example using ravel().\n",
      "  estimator.fit(X_train, y_train, **fit_params)\n",
      "/Users/junghwankim/opt/anaconda3/envs/test_heroku/lib/python3.7/site-packages/sklearn/base.py:446: UserWarning: X does not have valid feature names, but RandomForestClassifier was fitted with feature names\n",
      "  \"X does not have valid feature names, but\"\n",
      "/Users/junghwankim/opt/anaconda3/envs/test_heroku/lib/python3.7/site-packages/sklearn/model_selection/_validation.py:681: DataConversionWarning: A column-vector y was passed when a 1d array was expected. Please change the shape of y to (n_samples,), for example using ravel().\n",
      "  estimator.fit(X_train, y_train, **fit_params)\n",
      "/Users/junghwankim/opt/anaconda3/envs/test_heroku/lib/python3.7/site-packages/sklearn/base.py:446: UserWarning: X does not have valid feature names, but RandomForestClassifier was fitted with feature names\n",
      "  \"X does not have valid feature names, but\"\n",
      "/Users/junghwankim/opt/anaconda3/envs/test_heroku/lib/python3.7/site-packages/sklearn/model_selection/_validation.py:681: DataConversionWarning: A column-vector y was passed when a 1d array was expected. Please change the shape of y to (n_samples,), for example using ravel().\n",
      "  estimator.fit(X_train, y_train, **fit_params)\n",
      "/Users/junghwankim/opt/anaconda3/envs/test_heroku/lib/python3.7/site-packages/sklearn/base.py:446: UserWarning: X does not have valid feature names, but RandomForestClassifier was fitted with feature names\n",
      "  \"X does not have valid feature names, but\"\n",
      "/Users/junghwankim/opt/anaconda3/envs/test_heroku/lib/python3.7/site-packages/sklearn/model_selection/_validation.py:681: DataConversionWarning: A column-vector y was passed when a 1d array was expected. Please change the shape of y to (n_samples,), for example using ravel().\n",
      "  estimator.fit(X_train, y_train, **fit_params)\n",
      "/Users/junghwankim/opt/anaconda3/envs/test_heroku/lib/python3.7/site-packages/sklearn/base.py:446: UserWarning: X does not have valid feature names, but RandomForestClassifier was fitted with feature names\n",
      "  \"X does not have valid feature names, but\"\n",
      "/Users/junghwankim/opt/anaconda3/envs/test_heroku/lib/python3.7/site-packages/sklearn/model_selection/_validation.py:681: DataConversionWarning: A column-vector y was passed when a 1d array was expected. Please change the shape of y to (n_samples,), for example using ravel().\n",
      "  estimator.fit(X_train, y_train, **fit_params)\n",
      "/Users/junghwankim/opt/anaconda3/envs/test_heroku/lib/python3.7/site-packages/sklearn/base.py:446: UserWarning: X does not have valid feature names, but RandomForestClassifier was fitted with feature names\n",
      "  \"X does not have valid feature names, but\"\n",
      "/Users/junghwankim/opt/anaconda3/envs/test_heroku/lib/python3.7/site-packages/sklearn/model_selection/_validation.py:681: DataConversionWarning: A column-vector y was passed when a 1d array was expected. Please change the shape of y to (n_samples,), for example using ravel().\n",
      "  estimator.fit(X_train, y_train, **fit_params)\n",
      "/Users/junghwankim/opt/anaconda3/envs/test_heroku/lib/python3.7/site-packages/sklearn/base.py:446: UserWarning: X does not have valid feature names, but RandomForestClassifier was fitted with feature names\n",
      "  \"X does not have valid feature names, but\"\n",
      "/Users/junghwankim/opt/anaconda3/envs/test_heroku/lib/python3.7/site-packages/sklearn/model_selection/_validation.py:681: DataConversionWarning: A column-vector y was passed when a 1d array was expected. Please change the shape of y to (n_samples,), for example using ravel().\n",
      "  estimator.fit(X_train, y_train, **fit_params)\n",
      "/Users/junghwankim/opt/anaconda3/envs/test_heroku/lib/python3.7/site-packages/sklearn/base.py:446: UserWarning: X does not have valid feature names, but RandomForestClassifier was fitted with feature names\n",
      "  \"X does not have valid feature names, but\"\n",
      "/Users/junghwankim/opt/anaconda3/envs/test_heroku/lib/python3.7/site-packages/sklearn/model_selection/_validation.py:681: DataConversionWarning: A column-vector y was passed when a 1d array was expected. Please change the shape of y to (n_samples,), for example using ravel().\n",
      "  estimator.fit(X_train, y_train, **fit_params)\n",
      "/Users/junghwankim/opt/anaconda3/envs/test_heroku/lib/python3.7/site-packages/sklearn/base.py:446: UserWarning: X does not have valid feature names, but RandomForestClassifier was fitted with feature names\n",
      "  \"X does not have valid feature names, but\"\n",
      "/Users/junghwankim/opt/anaconda3/envs/test_heroku/lib/python3.7/site-packages/sklearn/model_selection/_validation.py:681: DataConversionWarning: A column-vector y was passed when a 1d array was expected. Please change the shape of y to (n_samples,), for example using ravel().\n",
      "  estimator.fit(X_train, y_train, **fit_params)\n",
      "/Users/junghwankim/opt/anaconda3/envs/test_heroku/lib/python3.7/site-packages/sklearn/base.py:446: UserWarning: X does not have valid feature names, but RandomForestClassifier was fitted with feature names\n",
      "  \"X does not have valid feature names, but\"\n",
      "/Users/junghwankim/opt/anaconda3/envs/test_heroku/lib/python3.7/site-packages/sklearn/model_selection/_validation.py:681: DataConversionWarning: A column-vector y was passed when a 1d array was expected. Please change the shape of y to (n_samples,), for example using ravel().\n",
      "  estimator.fit(X_train, y_train, **fit_params)\n",
      "/Users/junghwankim/opt/anaconda3/envs/test_heroku/lib/python3.7/site-packages/sklearn/base.py:446: UserWarning: X does not have valid feature names, but RandomForestClassifier was fitted with feature names\n",
      "  \"X does not have valid feature names, but\"\n",
      "/Users/junghwankim/opt/anaconda3/envs/test_heroku/lib/python3.7/site-packages/sklearn/model_selection/_validation.py:681: DataConversionWarning: A column-vector y was passed when a 1d array was expected. Please change the shape of y to (n_samples,), for example using ravel().\n",
      "  estimator.fit(X_train, y_train, **fit_params)\n",
      "/Users/junghwankim/opt/anaconda3/envs/test_heroku/lib/python3.7/site-packages/sklearn/base.py:446: UserWarning: X does not have valid feature names, but RandomForestClassifier was fitted with feature names\n",
      "  \"X does not have valid feature names, but\"\n",
      "/Users/junghwankim/opt/anaconda3/envs/test_heroku/lib/python3.7/site-packages/sklearn/model_selection/_validation.py:681: DataConversionWarning: A column-vector y was passed when a 1d array was expected. Please change the shape of y to (n_samples,), for example using ravel().\n",
      "  estimator.fit(X_train, y_train, **fit_params)\n",
      "/Users/junghwankim/opt/anaconda3/envs/test_heroku/lib/python3.7/site-packages/sklearn/base.py:446: UserWarning: X does not have valid feature names, but RandomForestClassifier was fitted with feature names\n",
      "  \"X does not have valid feature names, but\"\n",
      "/Users/junghwankim/opt/anaconda3/envs/test_heroku/lib/python3.7/site-packages/sklearn/model_selection/_validation.py:681: DataConversionWarning: A column-vector y was passed when a 1d array was expected. Please change the shape of y to (n_samples,), for example using ravel().\n",
      "  estimator.fit(X_train, y_train, **fit_params)\n",
      "/Users/junghwankim/opt/anaconda3/envs/test_heroku/lib/python3.7/site-packages/sklearn/model_selection/_validation.py:681: DataConversionWarning: A column-vector y was passed when a 1d array was expected. Please change the shape of y to (n_samples,), for example using ravel().\n",
      "  estimator.fit(X_train, y_train, **fit_params)\n",
      "/Users/junghwankim/opt/anaconda3/envs/test_heroku/lib/python3.7/site-packages/sklearn/base.py:446: UserWarning: X does not have valid feature names, but RandomForestClassifier was fitted with feature names\n",
      "  \"X does not have valid feature names, but\"\n",
      "/Users/junghwankim/opt/anaconda3/envs/test_heroku/lib/python3.7/site-packages/sklearn/model_selection/_validation.py:681: DataConversionWarning: A column-vector y was passed when a 1d array was expected. Please change the shape of y to (n_samples,), for example using ravel().\n",
      "  estimator.fit(X_train, y_train, **fit_params)\n",
      "/Users/junghwankim/opt/anaconda3/envs/test_heroku/lib/python3.7/site-packages/sklearn/base.py:446: UserWarning: X does not have valid feature names, but RandomForestClassifier was fitted with feature names\n",
      "  \"X does not have valid feature names, but\"\n",
      "/Users/junghwankim/opt/anaconda3/envs/test_heroku/lib/python3.7/site-packages/sklearn/model_selection/_validation.py:681: DataConversionWarning: A column-vector y was passed when a 1d array was expected. Please change the shape of y to (n_samples,), for example using ravel().\n",
      "  estimator.fit(X_train, y_train, **fit_params)\n",
      "/Users/junghwankim/opt/anaconda3/envs/test_heroku/lib/python3.7/site-packages/sklearn/base.py:446: UserWarning: X does not have valid feature names, but RandomForestClassifier was fitted with feature names\n",
      "  \"X does not have valid feature names, but\"\n",
      "/Users/junghwankim/opt/anaconda3/envs/test_heroku/lib/python3.7/site-packages/sklearn/model_selection/_validation.py:681: DataConversionWarning: A column-vector y was passed when a 1d array was expected. Please change the shape of y to (n_samples,), for example using ravel().\n",
      "  estimator.fit(X_train, y_train, **fit_params)\n",
      "/Users/junghwankim/opt/anaconda3/envs/test_heroku/lib/python3.7/site-packages/sklearn/base.py:446: UserWarning: X does not have valid feature names, but RandomForestClassifier was fitted with feature names\n",
      "  \"X does not have valid feature names, but\"\n",
      "/Users/junghwankim/opt/anaconda3/envs/test_heroku/lib/python3.7/site-packages/sklearn/model_selection/_validation.py:681: DataConversionWarning: A column-vector y was passed when a 1d array was expected. Please change the shape of y to (n_samples,), for example using ravel().\n",
      "  estimator.fit(X_train, y_train, **fit_params)\n",
      "/Users/junghwankim/opt/anaconda3/envs/test_heroku/lib/python3.7/site-packages/sklearn/base.py:446: UserWarning: X does not have valid feature names, but RandomForestClassifier was fitted with feature names\n",
      "  \"X does not have valid feature names, but\"\n",
      "/Users/junghwankim/opt/anaconda3/envs/test_heroku/lib/python3.7/site-packages/sklearn/model_selection/_validation.py:681: DataConversionWarning: A column-vector y was passed when a 1d array was expected. Please change the shape of y to (n_samples,), for example using ravel().\n",
      "  estimator.fit(X_train, y_train, **fit_params)\n",
      "/Users/junghwankim/opt/anaconda3/envs/test_heroku/lib/python3.7/site-packages/sklearn/base.py:446: UserWarning: X does not have valid feature names, but RandomForestClassifier was fitted with feature names\n",
      "  \"X does not have valid feature names, but\"\n",
      "/Users/junghwankim/opt/anaconda3/envs/test_heroku/lib/python3.7/site-packages/sklearn/model_selection/_validation.py:681: DataConversionWarning: A column-vector y was passed when a 1d array was expected. Please change the shape of y to (n_samples,), for example using ravel().\n",
      "  estimator.fit(X_train, y_train, **fit_params)\n",
      "/Users/junghwankim/opt/anaconda3/envs/test_heroku/lib/python3.7/site-packages/sklearn/base.py:446: UserWarning: X does not have valid feature names, but RandomForestClassifier was fitted with feature names\n",
      "  \"X does not have valid feature names, but\"\n",
      "/Users/junghwankim/opt/anaconda3/envs/test_heroku/lib/python3.7/site-packages/sklearn/model_selection/_validation.py:681: DataConversionWarning: A column-vector y was passed when a 1d array was expected. Please change the shape of y to (n_samples,), for example using ravel().\n",
      "  estimator.fit(X_train, y_train, **fit_params)\n",
      "/Users/junghwankim/opt/anaconda3/envs/test_heroku/lib/python3.7/site-packages/sklearn/base.py:446: UserWarning: X does not have valid feature names, but RandomForestClassifier was fitted with feature names\n",
      "  \"X does not have valid feature names, but\"\n",
      "/Users/junghwankim/opt/anaconda3/envs/test_heroku/lib/python3.7/site-packages/sklearn/model_selection/_validation.py:681: DataConversionWarning: A column-vector y was passed when a 1d array was expected. Please change the shape of y to (n_samples,), for example using ravel().\n",
      "  estimator.fit(X_train, y_train, **fit_params)\n",
      "/Users/junghwankim/opt/anaconda3/envs/test_heroku/lib/python3.7/site-packages/sklearn/base.py:446: UserWarning: X does not have valid feature names, but RandomForestClassifier was fitted with feature names\n",
      "  \"X does not have valid feature names, but\"\n",
      "/Users/junghwankim/opt/anaconda3/envs/test_heroku/lib/python3.7/site-packages/sklearn/model_selection/_validation.py:681: DataConversionWarning: A column-vector y was passed when a 1d array was expected. Please change the shape of y to (n_samples,), for example using ravel().\n",
      "  estimator.fit(X_train, y_train, **fit_params)\n",
      "/Users/junghwankim/opt/anaconda3/envs/test_heroku/lib/python3.7/site-packages/sklearn/base.py:446: UserWarning: X does not have valid feature names, but RandomForestClassifier was fitted with feature names\n",
      "  \"X does not have valid feature names, but\"\n",
      "/Users/junghwankim/opt/anaconda3/envs/test_heroku/lib/python3.7/site-packages/sklearn/model_selection/_validation.py:681: DataConversionWarning: A column-vector y was passed when a 1d array was expected. Please change the shape of y to (n_samples,), for example using ravel().\n",
      "  estimator.fit(X_train, y_train, **fit_params)\n",
      "/Users/junghwankim/opt/anaconda3/envs/test_heroku/lib/python3.7/site-packages/sklearn/base.py:446: UserWarning: X does not have valid feature names, but RandomForestClassifier was fitted with feature names\n",
      "  \"X does not have valid feature names, but\"\n",
      "/Users/junghwankim/opt/anaconda3/envs/test_heroku/lib/python3.7/site-packages/sklearn/model_selection/_validation.py:681: DataConversionWarning: A column-vector y was passed when a 1d array was expected. Please change the shape of y to (n_samples,), for example using ravel().\n",
      "  estimator.fit(X_train, y_train, **fit_params)\n",
      "/Users/junghwankim/opt/anaconda3/envs/test_heroku/lib/python3.7/site-packages/sklearn/base.py:446: UserWarning: X does not have valid feature names, but RandomForestClassifier was fitted with feature names\n",
      "  \"X does not have valid feature names, but\"\n",
      "/Users/junghwankim/opt/anaconda3/envs/test_heroku/lib/python3.7/site-packages/sklearn/model_selection/_validation.py:681: DataConversionWarning: A column-vector y was passed when a 1d array was expected. Please change the shape of y to (n_samples,), for example using ravel().\n",
      "  estimator.fit(X_train, y_train, **fit_params)\n",
      "/Users/junghwankim/opt/anaconda3/envs/test_heroku/lib/python3.7/site-packages/sklearn/base.py:446: UserWarning: X does not have valid feature names, but RandomForestClassifier was fitted with feature names\n",
      "  \"X does not have valid feature names, but\"\n",
      "/Users/junghwankim/opt/anaconda3/envs/test_heroku/lib/python3.7/site-packages/sklearn/model_selection/_validation.py:681: DataConversionWarning: A column-vector y was passed when a 1d array was expected. Please change the shape of y to (n_samples,), for example using ravel().\n",
      "  estimator.fit(X_train, y_train, **fit_params)\n",
      "/Users/junghwankim/opt/anaconda3/envs/test_heroku/lib/python3.7/site-packages/sklearn/base.py:446: UserWarning: X does not have valid feature names, but RandomForestClassifier was fitted with feature names\n",
      "  \"X does not have valid feature names, but\"\n",
      "/Users/junghwankim/opt/anaconda3/envs/test_heroku/lib/python3.7/site-packages/sklearn/model_selection/_validation.py:681: DataConversionWarning: A column-vector y was passed when a 1d array was expected. Please change the shape of y to (n_samples,), for example using ravel().\n",
      "  estimator.fit(X_train, y_train, **fit_params)\n",
      "/Users/junghwankim/opt/anaconda3/envs/test_heroku/lib/python3.7/site-packages/sklearn/model_selection/_validation.py:681: DataConversionWarning: A column-vector y was passed when a 1d array was expected. Please change the shape of y to (n_samples,), for example using ravel().\n",
      "  estimator.fit(X_train, y_train, **fit_params)\n",
      "/Users/junghwankim/opt/anaconda3/envs/test_heroku/lib/python3.7/site-packages/sklearn/base.py:446: UserWarning: X does not have valid feature names, but RandomForestClassifier was fitted with feature names\n",
      "  \"X does not have valid feature names, but\"\n",
      "/Users/junghwankim/opt/anaconda3/envs/test_heroku/lib/python3.7/site-packages/sklearn/model_selection/_validation.py:681: DataConversionWarning: A column-vector y was passed when a 1d array was expected. Please change the shape of y to (n_samples,), for example using ravel().\n",
      "  estimator.fit(X_train, y_train, **fit_params)\n",
      "/Users/junghwankim/opt/anaconda3/envs/test_heroku/lib/python3.7/site-packages/sklearn/base.py:446: UserWarning: X does not have valid feature names, but RandomForestClassifier was fitted with feature names\n",
      "  \"X does not have valid feature names, but\"\n",
      "/Users/junghwankim/opt/anaconda3/envs/test_heroku/lib/python3.7/site-packages/sklearn/model_selection/_validation.py:681: DataConversionWarning: A column-vector y was passed when a 1d array was expected. Please change the shape of y to (n_samples,), for example using ravel().\n",
      "  estimator.fit(X_train, y_train, **fit_params)\n",
      "/Users/junghwankim/opt/anaconda3/envs/test_heroku/lib/python3.7/site-packages/sklearn/base.py:446: UserWarning: X does not have valid feature names, but RandomForestClassifier was fitted with feature names\n",
      "  \"X does not have valid feature names, but\"\n",
      "/Users/junghwankim/opt/anaconda3/envs/test_heroku/lib/python3.7/site-packages/sklearn/model_selection/_validation.py:681: DataConversionWarning: A column-vector y was passed when a 1d array was expected. Please change the shape of y to (n_samples,), for example using ravel().\n",
      "  estimator.fit(X_train, y_train, **fit_params)\n",
      "/Users/junghwankim/opt/anaconda3/envs/test_heroku/lib/python3.7/site-packages/sklearn/base.py:446: UserWarning: X does not have valid feature names, but RandomForestClassifier was fitted with feature names\n",
      "  \"X does not have valid feature names, but\"\n",
      "/Users/junghwankim/opt/anaconda3/envs/test_heroku/lib/python3.7/site-packages/sklearn/model_selection/_validation.py:681: DataConversionWarning: A column-vector y was passed when a 1d array was expected. Please change the shape of y to (n_samples,), for example using ravel().\n",
      "  estimator.fit(X_train, y_train, **fit_params)\n",
      "/Users/junghwankim/opt/anaconda3/envs/test_heroku/lib/python3.7/site-packages/sklearn/base.py:446: UserWarning: X does not have valid feature names, but RandomForestClassifier was fitted with feature names\n",
      "  \"X does not have valid feature names, but\"\n",
      "/Users/junghwankim/opt/anaconda3/envs/test_heroku/lib/python3.7/site-packages/sklearn/model_selection/_validation.py:681: DataConversionWarning: A column-vector y was passed when a 1d array was expected. Please change the shape of y to (n_samples,), for example using ravel().\n",
      "  estimator.fit(X_train, y_train, **fit_params)\n",
      "/Users/junghwankim/opt/anaconda3/envs/test_heroku/lib/python3.7/site-packages/sklearn/base.py:446: UserWarning: X does not have valid feature names, but RandomForestClassifier was fitted with feature names\n",
      "  \"X does not have valid feature names, but\"\n",
      "/Users/junghwankim/opt/anaconda3/envs/test_heroku/lib/python3.7/site-packages/sklearn/model_selection/_validation.py:681: DataConversionWarning: A column-vector y was passed when a 1d array was expected. Please change the shape of y to (n_samples,), for example using ravel().\n",
      "  estimator.fit(X_train, y_train, **fit_params)\n",
      "/Users/junghwankim/opt/anaconda3/envs/test_heroku/lib/python3.7/site-packages/sklearn/base.py:446: UserWarning: X does not have valid feature names, but RandomForestClassifier was fitted with feature names\n",
      "  \"X does not have valid feature names, but\"\n",
      "/Users/junghwankim/opt/anaconda3/envs/test_heroku/lib/python3.7/site-packages/sklearn/model_selection/_validation.py:681: DataConversionWarning: A column-vector y was passed when a 1d array was expected. Please change the shape of y to (n_samples,), for example using ravel().\n",
      "  estimator.fit(X_train, y_train, **fit_params)\n",
      "/Users/junghwankim/opt/anaconda3/envs/test_heroku/lib/python3.7/site-packages/sklearn/base.py:446: UserWarning: X does not have valid feature names, but RandomForestClassifier was fitted with feature names\n",
      "  \"X does not have valid feature names, but\"\n",
      "/Users/junghwankim/opt/anaconda3/envs/test_heroku/lib/python3.7/site-packages/sklearn/model_selection/_validation.py:681: DataConversionWarning: A column-vector y was passed when a 1d array was expected. Please change the shape of y to (n_samples,), for example using ravel().\n",
      "  estimator.fit(X_train, y_train, **fit_params)\n",
      "/Users/junghwankim/opt/anaconda3/envs/test_heroku/lib/python3.7/site-packages/sklearn/base.py:446: UserWarning: X does not have valid feature names, but RandomForestClassifier was fitted with feature names\n",
      "  \"X does not have valid feature names, but\"\n",
      "/Users/junghwankim/opt/anaconda3/envs/test_heroku/lib/python3.7/site-packages/sklearn/model_selection/_validation.py:681: DataConversionWarning: A column-vector y was passed when a 1d array was expected. Please change the shape of y to (n_samples,), for example using ravel().\n",
      "  estimator.fit(X_train, y_train, **fit_params)\n",
      "/Users/junghwankim/opt/anaconda3/envs/test_heroku/lib/python3.7/site-packages/sklearn/base.py:446: UserWarning: X does not have valid feature names, but RandomForestClassifier was fitted with feature names\n",
      "  \"X does not have valid feature names, but\"\n",
      "/Users/junghwankim/opt/anaconda3/envs/test_heroku/lib/python3.7/site-packages/sklearn/model_selection/_validation.py:681: DataConversionWarning: A column-vector y was passed when a 1d array was expected. Please change the shape of y to (n_samples,), for example using ravel().\n",
      "  estimator.fit(X_train, y_train, **fit_params)\n",
      "/Users/junghwankim/opt/anaconda3/envs/test_heroku/lib/python3.7/site-packages/sklearn/base.py:446: UserWarning: X does not have valid feature names, but RandomForestClassifier was fitted with feature names\n",
      "  \"X does not have valid feature names, but\"\n",
      "/Users/junghwankim/opt/anaconda3/envs/test_heroku/lib/python3.7/site-packages/sklearn/model_selection/_validation.py:681: DataConversionWarning: A column-vector y was passed when a 1d array was expected. Please change the shape of y to (n_samples,), for example using ravel().\n",
      "  estimator.fit(X_train, y_train, **fit_params)\n",
      "/Users/junghwankim/opt/anaconda3/envs/test_heroku/lib/python3.7/site-packages/sklearn/base.py:446: UserWarning: X does not have valid feature names, but RandomForestClassifier was fitted with feature names\n",
      "  \"X does not have valid feature names, but\"\n",
      "/Users/junghwankim/opt/anaconda3/envs/test_heroku/lib/python3.7/site-packages/sklearn/model_selection/_validation.py:681: DataConversionWarning: A column-vector y was passed when a 1d array was expected. Please change the shape of y to (n_samples,), for example using ravel().\n",
      "  estimator.fit(X_train, y_train, **fit_params)\n",
      "/Users/junghwankim/opt/anaconda3/envs/test_heroku/lib/python3.7/site-packages/sklearn/base.py:446: UserWarning: X does not have valid feature names, but RandomForestClassifier was fitted with feature names\n",
      "  \"X does not have valid feature names, but\"\n",
      "/Users/junghwankim/opt/anaconda3/envs/test_heroku/lib/python3.7/site-packages/sklearn/model_selection/_validation.py:681: DataConversionWarning: A column-vector y was passed when a 1d array was expected. Please change the shape of y to (n_samples,), for example using ravel().\n",
      "  estimator.fit(X_train, y_train, **fit_params)\n",
      "/Users/junghwankim/opt/anaconda3/envs/test_heroku/lib/python3.7/site-packages/sklearn/base.py:446: UserWarning: X does not have valid feature names, but RandomForestClassifier was fitted with feature names\n",
      "  \"X does not have valid feature names, but\"\n",
      "/Users/junghwankim/opt/anaconda3/envs/test_heroku/lib/python3.7/site-packages/sklearn/model_selection/_validation.py:681: DataConversionWarning: A column-vector y was passed when a 1d array was expected. Please change the shape of y to (n_samples,), for example using ravel().\n",
      "  estimator.fit(X_train, y_train, **fit_params)\n",
      "/Users/junghwankim/opt/anaconda3/envs/test_heroku/lib/python3.7/site-packages/sklearn/model_selection/_validation.py:681: DataConversionWarning: A column-vector y was passed when a 1d array was expected. Please change the shape of y to (n_samples,), for example using ravel().\n",
      "  estimator.fit(X_train, y_train, **fit_params)\n",
      "/Users/junghwankim/opt/anaconda3/envs/test_heroku/lib/python3.7/site-packages/sklearn/base.py:446: UserWarning: X does not have valid feature names, but RandomForestClassifier was fitted with feature names\n",
      "  \"X does not have valid feature names, but\"\n",
      "/Users/junghwankim/opt/anaconda3/envs/test_heroku/lib/python3.7/site-packages/sklearn/model_selection/_validation.py:681: DataConversionWarning: A column-vector y was passed when a 1d array was expected. Please change the shape of y to (n_samples,), for example using ravel().\n",
      "  estimator.fit(X_train, y_train, **fit_params)\n",
      "/Users/junghwankim/opt/anaconda3/envs/test_heroku/lib/python3.7/site-packages/sklearn/base.py:446: UserWarning: X does not have valid feature names, but RandomForestClassifier was fitted with feature names\n",
      "  \"X does not have valid feature names, but\"\n",
      "/Users/junghwankim/opt/anaconda3/envs/test_heroku/lib/python3.7/site-packages/sklearn/model_selection/_validation.py:681: DataConversionWarning: A column-vector y was passed when a 1d array was expected. Please change the shape of y to (n_samples,), for example using ravel().\n",
      "  estimator.fit(X_train, y_train, **fit_params)\n",
      "/Users/junghwankim/opt/anaconda3/envs/test_heroku/lib/python3.7/site-packages/sklearn/base.py:446: UserWarning: X does not have valid feature names, but RandomForestClassifier was fitted with feature names\n",
      "  \"X does not have valid feature names, but\"\n",
      "/Users/junghwankim/opt/anaconda3/envs/test_heroku/lib/python3.7/site-packages/sklearn/model_selection/_validation.py:681: DataConversionWarning: A column-vector y was passed when a 1d array was expected. Please change the shape of y to (n_samples,), for example using ravel().\n",
      "  estimator.fit(X_train, y_train, **fit_params)\n",
      "/Users/junghwankim/opt/anaconda3/envs/test_heroku/lib/python3.7/site-packages/sklearn/base.py:446: UserWarning: X does not have valid feature names, but RandomForestClassifier was fitted with feature names\n",
      "  \"X does not have valid feature names, but\"\n",
      "/Users/junghwankim/opt/anaconda3/envs/test_heroku/lib/python3.7/site-packages/sklearn/model_selection/_validation.py:681: DataConversionWarning: A column-vector y was passed when a 1d array was expected. Please change the shape of y to (n_samples,), for example using ravel().\n",
      "  estimator.fit(X_train, y_train, **fit_params)\n",
      "/Users/junghwankim/opt/anaconda3/envs/test_heroku/lib/python3.7/site-packages/sklearn/base.py:446: UserWarning: X does not have valid feature names, but RandomForestClassifier was fitted with feature names\n",
      "  \"X does not have valid feature names, but\"\n",
      "/Users/junghwankim/opt/anaconda3/envs/test_heroku/lib/python3.7/site-packages/sklearn/model_selection/_validation.py:681: DataConversionWarning: A column-vector y was passed when a 1d array was expected. Please change the shape of y to (n_samples,), for example using ravel().\n",
      "  estimator.fit(X_train, y_train, **fit_params)\n",
      "/Users/junghwankim/opt/anaconda3/envs/test_heroku/lib/python3.7/site-packages/sklearn/base.py:446: UserWarning: X does not have valid feature names, but RandomForestClassifier was fitted with feature names\n",
      "  \"X does not have valid feature names, but\"\n",
      "/Users/junghwankim/opt/anaconda3/envs/test_heroku/lib/python3.7/site-packages/sklearn/model_selection/_validation.py:681: DataConversionWarning: A column-vector y was passed when a 1d array was expected. Please change the shape of y to (n_samples,), for example using ravel().\n",
      "  estimator.fit(X_train, y_train, **fit_params)\n",
      "/Users/junghwankim/opt/anaconda3/envs/test_heroku/lib/python3.7/site-packages/sklearn/base.py:446: UserWarning: X does not have valid feature names, but RandomForestClassifier was fitted with feature names\n",
      "  \"X does not have valid feature names, but\"\n",
      "/Users/junghwankim/opt/anaconda3/envs/test_heroku/lib/python3.7/site-packages/sklearn/model_selection/_validation.py:681: DataConversionWarning: A column-vector y was passed when a 1d array was expected. Please change the shape of y to (n_samples,), for example using ravel().\n",
      "  estimator.fit(X_train, y_train, **fit_params)\n",
      "/Users/junghwankim/opt/anaconda3/envs/test_heroku/lib/python3.7/site-packages/sklearn/base.py:446: UserWarning: X does not have valid feature names, but RandomForestClassifier was fitted with feature names\n",
      "  \"X does not have valid feature names, but\"\n",
      "/Users/junghwankim/opt/anaconda3/envs/test_heroku/lib/python3.7/site-packages/sklearn/model_selection/_validation.py:681: DataConversionWarning: A column-vector y was passed when a 1d array was expected. Please change the shape of y to (n_samples,), for example using ravel().\n",
      "  estimator.fit(X_train, y_train, **fit_params)\n",
      "/Users/junghwankim/opt/anaconda3/envs/test_heroku/lib/python3.7/site-packages/sklearn/base.py:446: UserWarning: X does not have valid feature names, but RandomForestClassifier was fitted with feature names\n",
      "  \"X does not have valid feature names, but\"\n",
      "/Users/junghwankim/opt/anaconda3/envs/test_heroku/lib/python3.7/site-packages/sklearn/model_selection/_validation.py:681: DataConversionWarning: A column-vector y was passed when a 1d array was expected. Please change the shape of y to (n_samples,), for example using ravel().\n",
      "  estimator.fit(X_train, y_train, **fit_params)\n",
      "/Users/junghwankim/opt/anaconda3/envs/test_heroku/lib/python3.7/site-packages/sklearn/base.py:446: UserWarning: X does not have valid feature names, but RandomForestClassifier was fitted with feature names\n",
      "  \"X does not have valid feature names, but\"\n",
      "/Users/junghwankim/opt/anaconda3/envs/test_heroku/lib/python3.7/site-packages/sklearn/model_selection/_validation.py:681: DataConversionWarning: A column-vector y was passed when a 1d array was expected. Please change the shape of y to (n_samples,), for example using ravel().\n",
      "  estimator.fit(X_train, y_train, **fit_params)\n",
      "/Users/junghwankim/opt/anaconda3/envs/test_heroku/lib/python3.7/site-packages/sklearn/base.py:446: UserWarning: X does not have valid feature names, but RandomForestClassifier was fitted with feature names\n",
      "  \"X does not have valid feature names, but\"\n",
      "/Users/junghwankim/opt/anaconda3/envs/test_heroku/lib/python3.7/site-packages/sklearn/model_selection/_validation.py:681: DataConversionWarning: A column-vector y was passed when a 1d array was expected. Please change the shape of y to (n_samples,), for example using ravel().\n",
      "  estimator.fit(X_train, y_train, **fit_params)\n",
      "/Users/junghwankim/opt/anaconda3/envs/test_heroku/lib/python3.7/site-packages/sklearn/base.py:446: UserWarning: X does not have valid feature names, but RandomForestClassifier was fitted with feature names\n",
      "  \"X does not have valid feature names, but\"\n",
      "/Users/junghwankim/opt/anaconda3/envs/test_heroku/lib/python3.7/site-packages/sklearn/model_selection/_validation.py:681: DataConversionWarning: A column-vector y was passed when a 1d array was expected. Please change the shape of y to (n_samples,), for example using ravel().\n",
      "  estimator.fit(X_train, y_train, **fit_params)\n",
      "/Users/junghwankim/opt/anaconda3/envs/test_heroku/lib/python3.7/site-packages/sklearn/base.py:446: UserWarning: X does not have valid feature names, but RandomForestClassifier was fitted with feature names\n",
      "  \"X does not have valid feature names, but\"\n",
      "/Users/junghwankim/opt/anaconda3/envs/test_heroku/lib/python3.7/site-packages/sklearn/model_selection/_validation.py:681: DataConversionWarning: A column-vector y was passed when a 1d array was expected. Please change the shape of y to (n_samples,), for example using ravel().\n",
      "  estimator.fit(X_train, y_train, **fit_params)\n",
      "/Users/junghwankim/opt/anaconda3/envs/test_heroku/lib/python3.7/site-packages/sklearn/base.py:446: UserWarning: X does not have valid feature names, but RandomForestClassifier was fitted with feature names\n",
      "  \"X does not have valid feature names, but\"\n",
      "/Users/junghwankim/opt/anaconda3/envs/test_heroku/lib/python3.7/site-packages/sklearn/model_selection/_validation.py:681: DataConversionWarning: A column-vector y was passed when a 1d array was expected. Please change the shape of y to (n_samples,), for example using ravel().\n",
      "  estimator.fit(X_train, y_train, **fit_params)\n",
      "/Users/junghwankim/opt/anaconda3/envs/test_heroku/lib/python3.7/site-packages/sklearn/model_selection/_validation.py:681: DataConversionWarning: A column-vector y was passed when a 1d array was expected. Please change the shape of y to (n_samples,), for example using ravel().\n",
      "  estimator.fit(X_train, y_train, **fit_params)\n",
      "/Users/junghwankim/opt/anaconda3/envs/test_heroku/lib/python3.7/site-packages/sklearn/base.py:446: UserWarning: X does not have valid feature names, but RandomForestClassifier was fitted with feature names\n",
      "  \"X does not have valid feature names, but\"\n",
      "/Users/junghwankim/opt/anaconda3/envs/test_heroku/lib/python3.7/site-packages/sklearn/model_selection/_validation.py:681: DataConversionWarning: A column-vector y was passed when a 1d array was expected. Please change the shape of y to (n_samples,), for example using ravel().\n",
      "  estimator.fit(X_train, y_train, **fit_params)\n",
      "/Users/junghwankim/opt/anaconda3/envs/test_heroku/lib/python3.7/site-packages/sklearn/base.py:446: UserWarning: X does not have valid feature names, but RandomForestClassifier was fitted with feature names\n",
      "  \"X does not have valid feature names, but\"\n",
      "/Users/junghwankim/opt/anaconda3/envs/test_heroku/lib/python3.7/site-packages/sklearn/model_selection/_validation.py:681: DataConversionWarning: A column-vector y was passed when a 1d array was expected. Please change the shape of y to (n_samples,), for example using ravel().\n",
      "  estimator.fit(X_train, y_train, **fit_params)\n",
      "/Users/junghwankim/opt/anaconda3/envs/test_heroku/lib/python3.7/site-packages/sklearn/base.py:446: UserWarning: X does not have valid feature names, but RandomForestClassifier was fitted with feature names\n",
      "  \"X does not have valid feature names, but\"\n",
      "/Users/junghwankim/opt/anaconda3/envs/test_heroku/lib/python3.7/site-packages/sklearn/model_selection/_validation.py:681: DataConversionWarning: A column-vector y was passed when a 1d array was expected. Please change the shape of y to (n_samples,), for example using ravel().\n",
      "  estimator.fit(X_train, y_train, **fit_params)\n",
      "/Users/junghwankim/opt/anaconda3/envs/test_heroku/lib/python3.7/site-packages/sklearn/base.py:446: UserWarning: X does not have valid feature names, but RandomForestClassifier was fitted with feature names\n",
      "  \"X does not have valid feature names, but\"\n",
      "/Users/junghwankim/opt/anaconda3/envs/test_heroku/lib/python3.7/site-packages/sklearn/model_selection/_validation.py:681: DataConversionWarning: A column-vector y was passed when a 1d array was expected. Please change the shape of y to (n_samples,), for example using ravel().\n",
      "  estimator.fit(X_train, y_train, **fit_params)\n",
      "/Users/junghwankim/opt/anaconda3/envs/test_heroku/lib/python3.7/site-packages/sklearn/base.py:446: UserWarning: X does not have valid feature names, but RandomForestClassifier was fitted with feature names\n",
      "  \"X does not have valid feature names, but\"\n",
      "/Users/junghwankim/opt/anaconda3/envs/test_heroku/lib/python3.7/site-packages/sklearn/model_selection/_validation.py:681: DataConversionWarning: A column-vector y was passed when a 1d array was expected. Please change the shape of y to (n_samples,), for example using ravel().\n",
      "  estimator.fit(X_train, y_train, **fit_params)\n",
      "/Users/junghwankim/opt/anaconda3/envs/test_heroku/lib/python3.7/site-packages/sklearn/base.py:446: UserWarning: X does not have valid feature names, but RandomForestClassifier was fitted with feature names\n",
      "  \"X does not have valid feature names, but\"\n",
      "/Users/junghwankim/opt/anaconda3/envs/test_heroku/lib/python3.7/site-packages/sklearn/model_selection/_validation.py:681: DataConversionWarning: A column-vector y was passed when a 1d array was expected. Please change the shape of y to (n_samples,), for example using ravel().\n",
      "  estimator.fit(X_train, y_train, **fit_params)\n",
      "/Users/junghwankim/opt/anaconda3/envs/test_heroku/lib/python3.7/site-packages/sklearn/base.py:446: UserWarning: X does not have valid feature names, but RandomForestClassifier was fitted with feature names\n",
      "  \"X does not have valid feature names, but\"\n",
      "/Users/junghwankim/opt/anaconda3/envs/test_heroku/lib/python3.7/site-packages/sklearn/model_selection/_validation.py:681: DataConversionWarning: A column-vector y was passed when a 1d array was expected. Please change the shape of y to (n_samples,), for example using ravel().\n",
      "  estimator.fit(X_train, y_train, **fit_params)\n",
      "/Users/junghwankim/opt/anaconda3/envs/test_heroku/lib/python3.7/site-packages/sklearn/base.py:446: UserWarning: X does not have valid feature names, but RandomForestClassifier was fitted with feature names\n",
      "  \"X does not have valid feature names, but\"\n",
      "/Users/junghwankim/opt/anaconda3/envs/test_heroku/lib/python3.7/site-packages/sklearn/model_selection/_validation.py:681: DataConversionWarning: A column-vector y was passed when a 1d array was expected. Please change the shape of y to (n_samples,), for example using ravel().\n",
      "  estimator.fit(X_train, y_train, **fit_params)\n",
      "/Users/junghwankim/opt/anaconda3/envs/test_heroku/lib/python3.7/site-packages/sklearn/base.py:446: UserWarning: X does not have valid feature names, but RandomForestClassifier was fitted with feature names\n",
      "  \"X does not have valid feature names, but\"\n",
      "/Users/junghwankim/opt/anaconda3/envs/test_heroku/lib/python3.7/site-packages/sklearn/model_selection/_validation.py:681: DataConversionWarning: A column-vector y was passed when a 1d array was expected. Please change the shape of y to (n_samples,), for example using ravel().\n",
      "  estimator.fit(X_train, y_train, **fit_params)\n",
      "/Users/junghwankim/opt/anaconda3/envs/test_heroku/lib/python3.7/site-packages/sklearn/base.py:446: UserWarning: X does not have valid feature names, but RandomForestClassifier was fitted with feature names\n",
      "  \"X does not have valid feature names, but\"\n",
      "/Users/junghwankim/opt/anaconda3/envs/test_heroku/lib/python3.7/site-packages/sklearn/model_selection/_validation.py:681: DataConversionWarning: A column-vector y was passed when a 1d array was expected. Please change the shape of y to (n_samples,), for example using ravel().\n",
      "  estimator.fit(X_train, y_train, **fit_params)\n",
      "/Users/junghwankim/opt/anaconda3/envs/test_heroku/lib/python3.7/site-packages/sklearn/base.py:446: UserWarning: X does not have valid feature names, but RandomForestClassifier was fitted with feature names\n",
      "  \"X does not have valid feature names, but\"\n",
      "/Users/junghwankim/opt/anaconda3/envs/test_heroku/lib/python3.7/site-packages/sklearn/model_selection/_validation.py:681: DataConversionWarning: A column-vector y was passed when a 1d array was expected. Please change the shape of y to (n_samples,), for example using ravel().\n",
      "  estimator.fit(X_train, y_train, **fit_params)\n",
      "/Users/junghwankim/opt/anaconda3/envs/test_heroku/lib/python3.7/site-packages/sklearn/base.py:446: UserWarning: X does not have valid feature names, but RandomForestClassifier was fitted with feature names\n",
      "  \"X does not have valid feature names, but\"\n",
      "/Users/junghwankim/opt/anaconda3/envs/test_heroku/lib/python3.7/site-packages/sklearn/model_selection/_validation.py:681: DataConversionWarning: A column-vector y was passed when a 1d array was expected. Please change the shape of y to (n_samples,), for example using ravel().\n",
      "  estimator.fit(X_train, y_train, **fit_params)\n",
      "/Users/junghwankim/opt/anaconda3/envs/test_heroku/lib/python3.7/site-packages/sklearn/base.py:446: UserWarning: X does not have valid feature names, but RandomForestClassifier was fitted with feature names\n",
      "  \"X does not have valid feature names, but\"\n",
      "/Users/junghwankim/opt/anaconda3/envs/test_heroku/lib/python3.7/site-packages/sklearn/model_selection/_validation.py:681: DataConversionWarning: A column-vector y was passed when a 1d array was expected. Please change the shape of y to (n_samples,), for example using ravel().\n",
      "  estimator.fit(X_train, y_train, **fit_params)\n",
      "/Users/junghwankim/opt/anaconda3/envs/test_heroku/lib/python3.7/site-packages/sklearn/base.py:446: UserWarning: X does not have valid feature names, but RandomForestClassifier was fitted with feature names\n",
      "  \"X does not have valid feature names, but\"\n",
      "/Users/junghwankim/opt/anaconda3/envs/test_heroku/lib/python3.7/site-packages/sklearn/model_selection/_validation.py:681: DataConversionWarning: A column-vector y was passed when a 1d array was expected. Please change the shape of y to (n_samples,), for example using ravel().\n",
      "  estimator.fit(X_train, y_train, **fit_params)\n",
      "/Users/junghwankim/opt/anaconda3/envs/test_heroku/lib/python3.7/site-packages/sklearn/model_selection/_validation.py:681: DataConversionWarning: A column-vector y was passed when a 1d array was expected. Please change the shape of y to (n_samples,), for example using ravel().\n",
      "  estimator.fit(X_train, y_train, **fit_params)\n",
      "/Users/junghwankim/opt/anaconda3/envs/test_heroku/lib/python3.7/site-packages/sklearn/base.py:446: UserWarning: X does not have valid feature names, but RandomForestClassifier was fitted with feature names\n",
      "  \"X does not have valid feature names, but\"\n",
      "/Users/junghwankim/opt/anaconda3/envs/test_heroku/lib/python3.7/site-packages/sklearn/model_selection/_validation.py:681: DataConversionWarning: A column-vector y was passed when a 1d array was expected. Please change the shape of y to (n_samples,), for example using ravel().\n",
      "  estimator.fit(X_train, y_train, **fit_params)\n",
      "/Users/junghwankim/opt/anaconda3/envs/test_heroku/lib/python3.7/site-packages/sklearn/base.py:446: UserWarning: X does not have valid feature names, but RandomForestClassifier was fitted with feature names\n",
      "  \"X does not have valid feature names, but\"\n",
      "/Users/junghwankim/opt/anaconda3/envs/test_heroku/lib/python3.7/site-packages/sklearn/model_selection/_validation.py:681: DataConversionWarning: A column-vector y was passed when a 1d array was expected. Please change the shape of y to (n_samples,), for example using ravel().\n",
      "  estimator.fit(X_train, y_train, **fit_params)\n",
      "/Users/junghwankim/opt/anaconda3/envs/test_heroku/lib/python3.7/site-packages/sklearn/base.py:446: UserWarning: X does not have valid feature names, but RandomForestClassifier was fitted with feature names\n",
      "  \"X does not have valid feature names, but\"\n",
      "/Users/junghwankim/opt/anaconda3/envs/test_heroku/lib/python3.7/site-packages/sklearn/model_selection/_validation.py:681: DataConversionWarning: A column-vector y was passed when a 1d array was expected. Please change the shape of y to (n_samples,), for example using ravel().\n",
      "  estimator.fit(X_train, y_train, **fit_params)\n",
      "/Users/junghwankim/opt/anaconda3/envs/test_heroku/lib/python3.7/site-packages/sklearn/base.py:446: UserWarning: X does not have valid feature names, but RandomForestClassifier was fitted with feature names\n",
      "  \"X does not have valid feature names, but\"\n",
      "/Users/junghwankim/opt/anaconda3/envs/test_heroku/lib/python3.7/site-packages/sklearn/model_selection/_validation.py:681: DataConversionWarning: A column-vector y was passed when a 1d array was expected. Please change the shape of y to (n_samples,), for example using ravel().\n",
      "  estimator.fit(X_train, y_train, **fit_params)\n",
      "/Users/junghwankim/opt/anaconda3/envs/test_heroku/lib/python3.7/site-packages/sklearn/base.py:446: UserWarning: X does not have valid feature names, but RandomForestClassifier was fitted with feature names\n",
      "  \"X does not have valid feature names, but\"\n",
      "/Users/junghwankim/opt/anaconda3/envs/test_heroku/lib/python3.7/site-packages/sklearn/model_selection/_validation.py:681: DataConversionWarning: A column-vector y was passed when a 1d array was expected. Please change the shape of y to (n_samples,), for example using ravel().\n",
      "  estimator.fit(X_train, y_train, **fit_params)\n",
      "/Users/junghwankim/opt/anaconda3/envs/test_heroku/lib/python3.7/site-packages/sklearn/base.py:446: UserWarning: X does not have valid feature names, but RandomForestClassifier was fitted with feature names\n",
      "  \"X does not have valid feature names, but\"\n",
      "/Users/junghwankim/opt/anaconda3/envs/test_heroku/lib/python3.7/site-packages/sklearn/model_selection/_validation.py:681: DataConversionWarning: A column-vector y was passed when a 1d array was expected. Please change the shape of y to (n_samples,), for example using ravel().\n",
      "  estimator.fit(X_train, y_train, **fit_params)\n",
      "/Users/junghwankim/opt/anaconda3/envs/test_heroku/lib/python3.7/site-packages/sklearn/base.py:446: UserWarning: X does not have valid feature names, but RandomForestClassifier was fitted with feature names\n",
      "  \"X does not have valid feature names, but\"\n",
      "/Users/junghwankim/opt/anaconda3/envs/test_heroku/lib/python3.7/site-packages/sklearn/model_selection/_validation.py:681: DataConversionWarning: A column-vector y was passed when a 1d array was expected. Please change the shape of y to (n_samples,), for example using ravel().\n",
      "  estimator.fit(X_train, y_train, **fit_params)\n",
      "/Users/junghwankim/opt/anaconda3/envs/test_heroku/lib/python3.7/site-packages/sklearn/base.py:446: UserWarning: X does not have valid feature names, but RandomForestClassifier was fitted with feature names\n",
      "  \"X does not have valid feature names, but\"\n",
      "/Users/junghwankim/opt/anaconda3/envs/test_heroku/lib/python3.7/site-packages/sklearn/model_selection/_validation.py:681: DataConversionWarning: A column-vector y was passed when a 1d array was expected. Please change the shape of y to (n_samples,), for example using ravel().\n",
      "  estimator.fit(X_train, y_train, **fit_params)\n",
      "/Users/junghwankim/opt/anaconda3/envs/test_heroku/lib/python3.7/site-packages/sklearn/base.py:446: UserWarning: X does not have valid feature names, but RandomForestClassifier was fitted with feature names\n",
      "  \"X does not have valid feature names, but\"\n",
      "/Users/junghwankim/opt/anaconda3/envs/test_heroku/lib/python3.7/site-packages/sklearn/model_selection/_validation.py:681: DataConversionWarning: A column-vector y was passed when a 1d array was expected. Please change the shape of y to (n_samples,), for example using ravel().\n",
      "  estimator.fit(X_train, y_train, **fit_params)\n",
      "/Users/junghwankim/opt/anaconda3/envs/test_heroku/lib/python3.7/site-packages/sklearn/base.py:446: UserWarning: X does not have valid feature names, but RandomForestClassifier was fitted with feature names\n",
      "  \"X does not have valid feature names, but\"\n",
      "/Users/junghwankim/opt/anaconda3/envs/test_heroku/lib/python3.7/site-packages/sklearn/model_selection/_validation.py:681: DataConversionWarning: A column-vector y was passed when a 1d array was expected. Please change the shape of y to (n_samples,), for example using ravel().\n",
      "  estimator.fit(X_train, y_train, **fit_params)\n",
      "/Users/junghwankim/opt/anaconda3/envs/test_heroku/lib/python3.7/site-packages/sklearn/base.py:446: UserWarning: X does not have valid feature names, but RandomForestClassifier was fitted with feature names\n",
      "  \"X does not have valid feature names, but\"\n",
      "/Users/junghwankim/opt/anaconda3/envs/test_heroku/lib/python3.7/site-packages/sklearn/model_selection/_validation.py:681: DataConversionWarning: A column-vector y was passed when a 1d array was expected. Please change the shape of y to (n_samples,), for example using ravel().\n",
      "  estimator.fit(X_train, y_train, **fit_params)\n",
      "/Users/junghwankim/opt/anaconda3/envs/test_heroku/lib/python3.7/site-packages/sklearn/base.py:446: UserWarning: X does not have valid feature names, but RandomForestClassifier was fitted with feature names\n",
      "  \"X does not have valid feature names, but\"\n",
      "/Users/junghwankim/opt/anaconda3/envs/test_heroku/lib/python3.7/site-packages/sklearn/model_selection/_validation.py:681: DataConversionWarning: A column-vector y was passed when a 1d array was expected. Please change the shape of y to (n_samples,), for example using ravel().\n",
      "  estimator.fit(X_train, y_train, **fit_params)\n",
      "/Users/junghwankim/opt/anaconda3/envs/test_heroku/lib/python3.7/site-packages/sklearn/base.py:446: UserWarning: X does not have valid feature names, but RandomForestClassifier was fitted with feature names\n",
      "  \"X does not have valid feature names, but\"\n",
      "/Users/junghwankim/opt/anaconda3/envs/test_heroku/lib/python3.7/site-packages/sklearn/model_selection/_validation.py:681: DataConversionWarning: A column-vector y was passed when a 1d array was expected. Please change the shape of y to (n_samples,), for example using ravel().\n",
      "  estimator.fit(X_train, y_train, **fit_params)\n",
      "/Users/junghwankim/opt/anaconda3/envs/test_heroku/lib/python3.7/site-packages/sklearn/base.py:446: UserWarning: X does not have valid feature names, but RandomForestClassifier was fitted with feature names\n",
      "  \"X does not have valid feature names, but\"\n",
      "/Users/junghwankim/opt/anaconda3/envs/test_heroku/lib/python3.7/site-packages/sklearn/model_selection/_validation.py:681: DataConversionWarning: A column-vector y was passed when a 1d array was expected. Please change the shape of y to (n_samples,), for example using ravel().\n",
      "  estimator.fit(X_train, y_train, **fit_params)\n",
      "/Users/junghwankim/opt/anaconda3/envs/test_heroku/lib/python3.7/site-packages/sklearn/model_selection/_validation.py:681: DataConversionWarning: A column-vector y was passed when a 1d array was expected. Please change the shape of y to (n_samples,), for example using ravel().\n",
      "  estimator.fit(X_train, y_train, **fit_params)\n",
      "/Users/junghwankim/opt/anaconda3/envs/test_heroku/lib/python3.7/site-packages/sklearn/base.py:446: UserWarning: X does not have valid feature names, but RandomForestClassifier was fitted with feature names\n",
      "  \"X does not have valid feature names, but\"\n",
      "/Users/junghwankim/opt/anaconda3/envs/test_heroku/lib/python3.7/site-packages/sklearn/model_selection/_validation.py:681: DataConversionWarning: A column-vector y was passed when a 1d array was expected. Please change the shape of y to (n_samples,), for example using ravel().\n",
      "  estimator.fit(X_train, y_train, **fit_params)\n",
      "/Users/junghwankim/opt/anaconda3/envs/test_heroku/lib/python3.7/site-packages/sklearn/base.py:446: UserWarning: X does not have valid feature names, but RandomForestClassifier was fitted with feature names\n",
      "  \"X does not have valid feature names, but\"\n",
      "/Users/junghwankim/opt/anaconda3/envs/test_heroku/lib/python3.7/site-packages/sklearn/model_selection/_validation.py:681: DataConversionWarning: A column-vector y was passed when a 1d array was expected. Please change the shape of y to (n_samples,), for example using ravel().\n",
      "  estimator.fit(X_train, y_train, **fit_params)\n",
      "/Users/junghwankim/opt/anaconda3/envs/test_heroku/lib/python3.7/site-packages/sklearn/base.py:446: UserWarning: X does not have valid feature names, but RandomForestClassifier was fitted with feature names\n",
      "  \"X does not have valid feature names, but\"\n",
      "/Users/junghwankim/opt/anaconda3/envs/test_heroku/lib/python3.7/site-packages/sklearn/model_selection/_validation.py:681: DataConversionWarning: A column-vector y was passed when a 1d array was expected. Please change the shape of y to (n_samples,), for example using ravel().\n",
      "  estimator.fit(X_train, y_train, **fit_params)\n",
      "/Users/junghwankim/opt/anaconda3/envs/test_heroku/lib/python3.7/site-packages/sklearn/base.py:446: UserWarning: X does not have valid feature names, but RandomForestClassifier was fitted with feature names\n",
      "  \"X does not have valid feature names, but\"\n",
      "/Users/junghwankim/opt/anaconda3/envs/test_heroku/lib/python3.7/site-packages/sklearn/model_selection/_validation.py:681: DataConversionWarning: A column-vector y was passed when a 1d array was expected. Please change the shape of y to (n_samples,), for example using ravel().\n",
      "  estimator.fit(X_train, y_train, **fit_params)\n",
      "/Users/junghwankim/opt/anaconda3/envs/test_heroku/lib/python3.7/site-packages/sklearn/base.py:446: UserWarning: X does not have valid feature names, but RandomForestClassifier was fitted with feature names\n",
      "  \"X does not have valid feature names, but\"\n",
      "/Users/junghwankim/opt/anaconda3/envs/test_heroku/lib/python3.7/site-packages/sklearn/model_selection/_validation.py:681: DataConversionWarning: A column-vector y was passed when a 1d array was expected. Please change the shape of y to (n_samples,), for example using ravel().\n",
      "  estimator.fit(X_train, y_train, **fit_params)\n",
      "/Users/junghwankim/opt/anaconda3/envs/test_heroku/lib/python3.7/site-packages/sklearn/base.py:446: UserWarning: X does not have valid feature names, but RandomForestClassifier was fitted with feature names\n",
      "  \"X does not have valid feature names, but\"\n",
      "/Users/junghwankim/opt/anaconda3/envs/test_heroku/lib/python3.7/site-packages/sklearn/model_selection/_validation.py:681: DataConversionWarning: A column-vector y was passed when a 1d array was expected. Please change the shape of y to (n_samples,), for example using ravel().\n",
      "  estimator.fit(X_train, y_train, **fit_params)\n",
      "/Users/junghwankim/opt/anaconda3/envs/test_heroku/lib/python3.7/site-packages/sklearn/base.py:446: UserWarning: X does not have valid feature names, but RandomForestClassifier was fitted with feature names\n",
      "  \"X does not have valid feature names, but\"\n",
      "/Users/junghwankim/opt/anaconda3/envs/test_heroku/lib/python3.7/site-packages/sklearn/model_selection/_validation.py:681: DataConversionWarning: A column-vector y was passed when a 1d array was expected. Please change the shape of y to (n_samples,), for example using ravel().\n",
      "  estimator.fit(X_train, y_train, **fit_params)\n",
      "/Users/junghwankim/opt/anaconda3/envs/test_heroku/lib/python3.7/site-packages/sklearn/base.py:446: UserWarning: X does not have valid feature names, but RandomForestClassifier was fitted with feature names\n",
      "  \"X does not have valid feature names, but\"\n",
      "/Users/junghwankim/opt/anaconda3/envs/test_heroku/lib/python3.7/site-packages/sklearn/model_selection/_validation.py:681: DataConversionWarning: A column-vector y was passed when a 1d array was expected. Please change the shape of y to (n_samples,), for example using ravel().\n",
      "  estimator.fit(X_train, y_train, **fit_params)\n",
      "/Users/junghwankim/opt/anaconda3/envs/test_heroku/lib/python3.7/site-packages/sklearn/base.py:446: UserWarning: X does not have valid feature names, but RandomForestClassifier was fitted with feature names\n",
      "  \"X does not have valid feature names, but\"\n",
      "/Users/junghwankim/opt/anaconda3/envs/test_heroku/lib/python3.7/site-packages/sklearn/model_selection/_validation.py:681: DataConversionWarning: A column-vector y was passed when a 1d array was expected. Please change the shape of y to (n_samples,), for example using ravel().\n",
      "  estimator.fit(X_train, y_train, **fit_params)\n",
      "/Users/junghwankim/opt/anaconda3/envs/test_heroku/lib/python3.7/site-packages/sklearn/base.py:446: UserWarning: X does not have valid feature names, but RandomForestClassifier was fitted with feature names\n",
      "  \"X does not have valid feature names, but\"\n",
      "/Users/junghwankim/opt/anaconda3/envs/test_heroku/lib/python3.7/site-packages/sklearn/model_selection/_validation.py:681: DataConversionWarning: A column-vector y was passed when a 1d array was expected. Please change the shape of y to (n_samples,), for example using ravel().\n",
      "  estimator.fit(X_train, y_train, **fit_params)\n",
      "/Users/junghwankim/opt/anaconda3/envs/test_heroku/lib/python3.7/site-packages/sklearn/base.py:446: UserWarning: X does not have valid feature names, but RandomForestClassifier was fitted with feature names\n",
      "  \"X does not have valid feature names, but\"\n",
      "/Users/junghwankim/opt/anaconda3/envs/test_heroku/lib/python3.7/site-packages/sklearn/model_selection/_validation.py:681: DataConversionWarning: A column-vector y was passed when a 1d array was expected. Please change the shape of y to (n_samples,), for example using ravel().\n",
      "  estimator.fit(X_train, y_train, **fit_params)\n",
      "/Users/junghwankim/opt/anaconda3/envs/test_heroku/lib/python3.7/site-packages/sklearn/base.py:446: UserWarning: X does not have valid feature names, but RandomForestClassifier was fitted with feature names\n",
      "  \"X does not have valid feature names, but\"\n",
      "/Users/junghwankim/opt/anaconda3/envs/test_heroku/lib/python3.7/site-packages/sklearn/model_selection/_validation.py:681: DataConversionWarning: A column-vector y was passed when a 1d array was expected. Please change the shape of y to (n_samples,), for example using ravel().\n",
      "  estimator.fit(X_train, y_train, **fit_params)\n",
      "/Users/junghwankim/opt/anaconda3/envs/test_heroku/lib/python3.7/site-packages/sklearn/base.py:446: UserWarning: X does not have valid feature names, but RandomForestClassifier was fitted with feature names\n",
      "  \"X does not have valid feature names, but\"\n",
      "/Users/junghwankim/opt/anaconda3/envs/test_heroku/lib/python3.7/site-packages/sklearn/model_selection/_validation.py:681: DataConversionWarning: A column-vector y was passed when a 1d array was expected. Please change the shape of y to (n_samples,), for example using ravel().\n",
      "  estimator.fit(X_train, y_train, **fit_params)\n",
      "/Users/junghwankim/opt/anaconda3/envs/test_heroku/lib/python3.7/site-packages/sklearn/base.py:446: UserWarning: X does not have valid feature names, but RandomForestClassifier was fitted with feature names\n",
      "  \"X does not have valid feature names, but\"\n",
      "/Users/junghwankim/opt/anaconda3/envs/test_heroku/lib/python3.7/site-packages/sklearn/model_selection/_validation.py:681: DataConversionWarning: A column-vector y was passed when a 1d array was expected. Please change the shape of y to (n_samples,), for example using ravel().\n",
      "  estimator.fit(X_train, y_train, **fit_params)\n",
      "/Users/junghwankim/opt/anaconda3/envs/test_heroku/lib/python3.7/site-packages/sklearn/model_selection/_validation.py:681: DataConversionWarning: A column-vector y was passed when a 1d array was expected. Please change the shape of y to (n_samples,), for example using ravel().\n",
      "  estimator.fit(X_train, y_train, **fit_params)\n",
      "/Users/junghwankim/opt/anaconda3/envs/test_heroku/lib/python3.7/site-packages/sklearn/base.py:446: UserWarning: X does not have valid feature names, but RandomForestClassifier was fitted with feature names\n",
      "  \"X does not have valid feature names, but\"\n",
      "/Users/junghwankim/opt/anaconda3/envs/test_heroku/lib/python3.7/site-packages/sklearn/model_selection/_validation.py:681: DataConversionWarning: A column-vector y was passed when a 1d array was expected. Please change the shape of y to (n_samples,), for example using ravel().\n",
      "  estimator.fit(X_train, y_train, **fit_params)\n",
      "/Users/junghwankim/opt/anaconda3/envs/test_heroku/lib/python3.7/site-packages/sklearn/base.py:446: UserWarning: X does not have valid feature names, but RandomForestClassifier was fitted with feature names\n",
      "  \"X does not have valid feature names, but\"\n",
      "/Users/junghwankim/opt/anaconda3/envs/test_heroku/lib/python3.7/site-packages/sklearn/model_selection/_validation.py:681: DataConversionWarning: A column-vector y was passed when a 1d array was expected. Please change the shape of y to (n_samples,), for example using ravel().\n",
      "  estimator.fit(X_train, y_train, **fit_params)\n",
      "/Users/junghwankim/opt/anaconda3/envs/test_heroku/lib/python3.7/site-packages/sklearn/base.py:446: UserWarning: X does not have valid feature names, but RandomForestClassifier was fitted with feature names\n",
      "  \"X does not have valid feature names, but\"\n",
      "/Users/junghwankim/opt/anaconda3/envs/test_heroku/lib/python3.7/site-packages/sklearn/model_selection/_validation.py:681: DataConversionWarning: A column-vector y was passed when a 1d array was expected. Please change the shape of y to (n_samples,), for example using ravel().\n",
      "  estimator.fit(X_train, y_train, **fit_params)\n",
      "/Users/junghwankim/opt/anaconda3/envs/test_heroku/lib/python3.7/site-packages/sklearn/base.py:446: UserWarning: X does not have valid feature names, but RandomForestClassifier was fitted with feature names\n",
      "  \"X does not have valid feature names, but\"\n",
      "/Users/junghwankim/opt/anaconda3/envs/test_heroku/lib/python3.7/site-packages/sklearn/model_selection/_validation.py:681: DataConversionWarning: A column-vector y was passed when a 1d array was expected. Please change the shape of y to (n_samples,), for example using ravel().\n",
      "  estimator.fit(X_train, y_train, **fit_params)\n",
      "/Users/junghwankim/opt/anaconda3/envs/test_heroku/lib/python3.7/site-packages/sklearn/base.py:446: UserWarning: X does not have valid feature names, but RandomForestClassifier was fitted with feature names\n",
      "  \"X does not have valid feature names, but\"\n",
      "/Users/junghwankim/opt/anaconda3/envs/test_heroku/lib/python3.7/site-packages/sklearn/model_selection/_validation.py:681: DataConversionWarning: A column-vector y was passed when a 1d array was expected. Please change the shape of y to (n_samples,), for example using ravel().\n",
      "  estimator.fit(X_train, y_train, **fit_params)\n",
      "/Users/junghwankim/opt/anaconda3/envs/test_heroku/lib/python3.7/site-packages/sklearn/base.py:446: UserWarning: X does not have valid feature names, but RandomForestClassifier was fitted with feature names\n",
      "  \"X does not have valid feature names, but\"\n",
      "/Users/junghwankim/opt/anaconda3/envs/test_heroku/lib/python3.7/site-packages/sklearn/model_selection/_validation.py:681: DataConversionWarning: A column-vector y was passed when a 1d array was expected. Please change the shape of y to (n_samples,), for example using ravel().\n",
      "  estimator.fit(X_train, y_train, **fit_params)\n",
      "/Users/junghwankim/opt/anaconda3/envs/test_heroku/lib/python3.7/site-packages/sklearn/base.py:446: UserWarning: X does not have valid feature names, but RandomForestClassifier was fitted with feature names\n",
      "  \"X does not have valid feature names, but\"\n",
      "/Users/junghwankim/opt/anaconda3/envs/test_heroku/lib/python3.7/site-packages/sklearn/model_selection/_validation.py:681: DataConversionWarning: A column-vector y was passed when a 1d array was expected. Please change the shape of y to (n_samples,), for example using ravel().\n",
      "  estimator.fit(X_train, y_train, **fit_params)\n",
      "/Users/junghwankim/opt/anaconda3/envs/test_heroku/lib/python3.7/site-packages/sklearn/base.py:446: UserWarning: X does not have valid feature names, but RandomForestClassifier was fitted with feature names\n",
      "  \"X does not have valid feature names, but\"\n",
      "/Users/junghwankim/opt/anaconda3/envs/test_heroku/lib/python3.7/site-packages/sklearn/model_selection/_validation.py:681: DataConversionWarning: A column-vector y was passed when a 1d array was expected. Please change the shape of y to (n_samples,), for example using ravel().\n",
      "  estimator.fit(X_train, y_train, **fit_params)\n",
      "/Users/junghwankim/opt/anaconda3/envs/test_heroku/lib/python3.7/site-packages/sklearn/base.py:446: UserWarning: X does not have valid feature names, but RandomForestClassifier was fitted with feature names\n",
      "  \"X does not have valid feature names, but\"\n",
      "/Users/junghwankim/opt/anaconda3/envs/test_heroku/lib/python3.7/site-packages/sklearn/model_selection/_validation.py:681: DataConversionWarning: A column-vector y was passed when a 1d array was expected. Please change the shape of y to (n_samples,), for example using ravel().\n",
      "  estimator.fit(X_train, y_train, **fit_params)\n",
      "/Users/junghwankim/opt/anaconda3/envs/test_heroku/lib/python3.7/site-packages/sklearn/base.py:446: UserWarning: X does not have valid feature names, but RandomForestClassifier was fitted with feature names\n",
      "  \"X does not have valid feature names, but\"\n",
      "/Users/junghwankim/opt/anaconda3/envs/test_heroku/lib/python3.7/site-packages/sklearn/model_selection/_validation.py:681: DataConversionWarning: A column-vector y was passed when a 1d array was expected. Please change the shape of y to (n_samples,), for example using ravel().\n",
      "  estimator.fit(X_train, y_train, **fit_params)\n",
      "/Users/junghwankim/opt/anaconda3/envs/test_heroku/lib/python3.7/site-packages/sklearn/base.py:446: UserWarning: X does not have valid feature names, but RandomForestClassifier was fitted with feature names\n",
      "  \"X does not have valid feature names, but\"\n",
      "/Users/junghwankim/opt/anaconda3/envs/test_heroku/lib/python3.7/site-packages/sklearn/model_selection/_validation.py:681: DataConversionWarning: A column-vector y was passed when a 1d array was expected. Please change the shape of y to (n_samples,), for example using ravel().\n",
      "  estimator.fit(X_train, y_train, **fit_params)\n",
      "/Users/junghwankim/opt/anaconda3/envs/test_heroku/lib/python3.7/site-packages/sklearn/base.py:446: UserWarning: X does not have valid feature names, but RandomForestClassifier was fitted with feature names\n",
      "  \"X does not have valid feature names, but\"\n",
      "/Users/junghwankim/opt/anaconda3/envs/test_heroku/lib/python3.7/site-packages/sklearn/model_selection/_validation.py:681: DataConversionWarning: A column-vector y was passed when a 1d array was expected. Please change the shape of y to (n_samples,), for example using ravel().\n",
      "  estimator.fit(X_train, y_train, **fit_params)\n",
      "/Users/junghwankim/opt/anaconda3/envs/test_heroku/lib/python3.7/site-packages/sklearn/base.py:446: UserWarning: X does not have valid feature names, but RandomForestClassifier was fitted with feature names\n",
      "  \"X does not have valid feature names, but\"\n",
      "/Users/junghwankim/opt/anaconda3/envs/test_heroku/lib/python3.7/site-packages/sklearn/model_selection/_validation.py:681: DataConversionWarning: A column-vector y was passed when a 1d array was expected. Please change the shape of y to (n_samples,), for example using ravel().\n",
      "  estimator.fit(X_train, y_train, **fit_params)\n",
      "/Users/junghwankim/opt/anaconda3/envs/test_heroku/lib/python3.7/site-packages/sklearn/base.py:446: UserWarning: X does not have valid feature names, but RandomForestClassifier was fitted with feature names\n",
      "  \"X does not have valid feature names, but\"\n",
      "/Users/junghwankim/opt/anaconda3/envs/test_heroku/lib/python3.7/site-packages/sklearn/model_selection/_validation.py:681: DataConversionWarning: A column-vector y was passed when a 1d array was expected. Please change the shape of y to (n_samples,), for example using ravel().\n",
      "  estimator.fit(X_train, y_train, **fit_params)\n",
      "/Users/junghwankim/opt/anaconda3/envs/test_heroku/lib/python3.7/site-packages/sklearn/model_selection/_search.py:926: DataConversionWarning: A column-vector y was passed when a 1d array was expected. Please change the shape of y to (n_samples,), for example using ravel().\n",
      "  self.best_estimator_.fit(X, y, **fit_params)\n",
      "/Users/junghwankim/opt/anaconda3/envs/test_heroku/lib/python3.7/site-packages/sklearn/base.py:446: UserWarning: X does not have valid feature names, but RandomForestClassifier was fitted with feature names\n",
      "  \"X does not have valid feature names, but\"\n"
     ]
    },
    {
     "data": {
      "text/plain": [
       "GridSearchCV(cv=5,\n",
       "             estimator=RandomForestClassifier(n_jobs=-1, oob_score=True,\n",
       "                                              random_state=3077),\n",
       "             n_jobs=-1,\n",
       "             param_grid={'criterion': ['gini', 'entropy'],\n",
       "                         'max_depth': [5, 7, 9, 11],\n",
       "                         'max_features': ['auto', 'sqrt'],\n",
       "                         'n_estimators': [50, 100, 200, 300]},\n",
       "             scoring='accuracy', verbose=True)"
      ]
     },
     "execution_count": 99,
     "metadata": {},
     "output_type": "execute_result"
    }
   ],
   "source": [
    "RF_grid.fit(train_X, train_y)"
   ]
  },
  {
   "cell_type": "code",
   "execution_count": 100,
   "id": "62ed80ab",
   "metadata": {},
   "outputs": [
    {
     "data": {
      "text/plain": [
       "{'criterion': 'entropy',\n",
       " 'max_depth': 7,\n",
       " 'max_features': 'auto',\n",
       " 'n_estimators': 100}"
      ]
     },
     "execution_count": 100,
     "metadata": {},
     "output_type": "execute_result"
    }
   ],
   "source": [
    "RF_grid.best_params_"
   ]
  },
  {
   "cell_type": "code",
   "execution_count": 101,
   "id": "579556aa",
   "metadata": {},
   "outputs": [
    {
     "name": "stderr",
     "output_type": "stream",
     "text": [
      "/Users/junghwankim/opt/anaconda3/envs/test_heroku/lib/python3.7/site-packages/ipykernel_launcher.py:8: DataConversionWarning: A column-vector y was passed when a 1d array was expected. Please change the shape of y to (n_samples,), for example using ravel().\n",
      "  \n",
      "/Users/junghwankim/opt/anaconda3/envs/test_heroku/lib/python3.7/site-packages/sklearn/base.py:446: UserWarning: X does not have valid feature names, but RandomForestClassifier was fitted with feature names\n",
      "  \"X does not have valid feature names, but\"\n"
     ]
    },
    {
     "data": {
      "text/plain": [
       "RandomForestClassifier(criterion='entropy', max_depth=7, n_jobs=-1,\n",
       "                       oob_score=True, random_state=3077)"
      ]
     },
     "execution_count": 101,
     "metadata": {},
     "output_type": "execute_result"
    }
   ],
   "source": [
    "after_grid_RF=RandomForestClassifier(100,\n",
    "                                        oob_score=True,\n",
    "                                        n_jobs=-1,\n",
    "                                        random_state=3077,\n",
    "                                        criterion='entropy',\n",
    "                                        max_depth=7,\n",
    "                                        max_features='auto')\n",
    "after_grid_RF.fit(train_X,train_y)"
   ]
  },
  {
   "cell_type": "code",
   "execution_count": 102,
   "id": "939a4bff",
   "metadata": {},
   "outputs": [
    {
     "name": "stdout",
     "output_type": "stream",
     "text": [
      "Train Accuracy : 0.990\n",
      "Test Accuracy : 0.900\n"
     ]
    }
   ],
   "source": [
    "print(\"Train Accuracy : {:.3f}\".format(after_grid_RF.score(train_X,train_y)))\n",
    "print(\"Test Accuracy : {:.3f}\".format(after_grid_RF.score(test_X,test_y)))"
   ]
  },
  {
   "cell_type": "markdown",
   "id": "65c8eac0",
   "metadata": {},
   "source": [
    "#### Save RandomForest model ####"
   ]
  },
  {
   "cell_type": "code",
   "execution_count": 138,
   "id": "c2ed869a",
   "metadata": {},
   "outputs": [],
   "source": [
    "dump(after_grid_RF, '../trained_models/rf_after_grid.joblib')\n",
    "saved_rf = load('../trained_models/rf_after_grid.joblib')"
   ]
  },
  {
   "cell_type": "markdown",
   "id": "delayed-founder",
   "metadata": {},
   "source": [
    "### Losgistic Regression ###"
   ]
  },
  {
   "cell_type": "code",
   "execution_count": 106,
   "id": "cb23f8ae",
   "metadata": {},
   "outputs": [],
   "source": [
    "from sklearn.linear_model import LogisticRegression\n",
    "from sklearn.preprocessing import StandardScaler"
   ]
  },
  {
   "cell_type": "code",
   "execution_count": 107,
   "id": "393e5256",
   "metadata": {},
   "outputs": [],
   "source": [
    "scaler = StandardScaler()   # min 0, var = 1    Also can use Min-Max scaler\n",
    "train_features = scaler.fit_transform(train_X)\n",
    "test_features = scaler.transform(test_X)"
   ]
  },
  {
   "cell_type": "code",
   "execution_count": 109,
   "id": "351c5557",
   "metadata": {},
   "outputs": [
    {
     "name": "stderr",
     "output_type": "stream",
     "text": [
      "/Users/junghwankim/opt/anaconda3/envs/test_heroku/lib/python3.7/site-packages/sklearn/utils/validation.py:985: DataConversionWarning: A column-vector y was passed when a 1d array was expected. Please change the shape of y to (n_samples, ), for example using ravel().\n",
      "  y = column_or_1d(y, warn=True)\n"
     ]
    },
    {
     "data": {
      "text/plain": [
       "LogisticRegression()"
      ]
     },
     "execution_count": 109,
     "metadata": {},
     "output_type": "execute_result"
    }
   ],
   "source": [
    "LR = LogisticRegression()\n",
    "LR.fit(train_features, train_y)"
   ]
  },
  {
   "cell_type": "code",
   "execution_count": 110,
   "id": "bcd6b315",
   "metadata": {},
   "outputs": [
    {
     "name": "stdout",
     "output_type": "stream",
     "text": [
      "0.46\n"
     ]
    },
    {
     "name": "stderr",
     "output_type": "stream",
     "text": [
      "/Users/junghwankim/opt/anaconda3/envs/test_heroku/lib/python3.7/site-packages/sklearn/base.py:446: UserWarning: X does not have valid feature names, but LogisticRegression was fitted with feature names\n",
      "  \"X does not have valid feature names, but\"\n"
     ]
    }
   ],
   "source": [
    "print(model.score(test_features, test_y))"
   ]
  },
  {
   "cell_type": "code",
   "execution_count": 111,
   "id": "2b5fa461",
   "metadata": {},
   "outputs": [
    {
     "name": "stdout",
     "output_type": "stream",
     "text": [
      "[0 5 0 0 0 5 0 5 5 0 5 5 4 5 5 5 5 5 0 5 5 0 0 5 0 0 0 5 4 0 0 5 0 5 5 1 5\n",
      " 0 5 0 5 5 0 5 5 5 5 5 0 0 5 0 0 0 0 0 0 0 5 5 5 0 5 5 0 0 5 5 0 5 0 5 5 0\n",
      " 0 0 0 0 0 5 0 5 0 5 5 0 5 5 0 0 0 5 4 4 0 5 0 5 5 0]\n"
     ]
    },
    {
     "name": "stderr",
     "output_type": "stream",
     "text": [
      "/Users/junghwankim/opt/anaconda3/envs/test_heroku/lib/python3.7/site-packages/sklearn/base.py:446: UserWarning: X does not have valid feature names, but LogisticRegression was fitted with feature names\n",
      "  \"X does not have valid feature names, but\"\n"
     ]
    }
   ],
   "source": [
    "print(model.predict(test_features))"
   ]
  },
  {
   "cell_type": "markdown",
   "id": "vertical-judgment",
   "metadata": {},
   "source": [
    "### Support Vector Machine ###"
   ]
  },
  {
   "cell_type": "code",
   "execution_count": 22,
   "id": "a4c461f0",
   "metadata": {},
   "outputs": [],
   "source": [
    "from sklearn.svm import SVC"
   ]
  },
  {
   "cell_type": "code",
   "execution_count": 132,
   "id": "45e388cc",
   "metadata": {},
   "outputs": [
    {
     "name": "stderr",
     "output_type": "stream",
     "text": [
      "/Users/junghwankim/opt/anaconda3/envs/test_heroku/lib/python3.7/site-packages/sklearn/utils/validation.py:985: DataConversionWarning: A column-vector y was passed when a 1d array was expected. Please change the shape of y to (n_samples, ), for example using ravel().\n",
      "  y = column_or_1d(y, warn=True)\n"
     ]
    },
    {
     "data": {
      "text/plain": [
       "SVC(gamma=0.01)"
      ]
     },
     "execution_count": 132,
     "metadata": {},
     "output_type": "execute_result"
    }
   ],
   "source": [
    "SVC_model = SVC(gamma = 0.01)\n",
    "SVC_model.fit(train_X, train_y)"
   ]
  },
  {
   "cell_type": "code",
   "execution_count": 133,
   "id": "0a4198b7",
   "metadata": {},
   "outputs": [
    {
     "name": "stdout",
     "output_type": "stream",
     "text": [
      "Train Accuracy : 0.965\n",
      "Test Accuracy : 0.940\n"
     ]
    }
   ],
   "source": [
    "print(\"Train Accuracy : {:.3f}\".format(SVC_model.score(train_X,train_y)))\n",
    "print(\"Test Accuracy : {:.3f}\".format(SVC_model.score(test_X,test_y)))"
   ]
  },
  {
   "cell_type": "code",
   "execution_count": 23,
   "id": "d91fdded",
   "metadata": {},
   "outputs": [],
   "source": [
    "#dump(SVC_model, '../trained_models/svc.joblib')\n",
    "saved_svc = load('../trained_models/svc.joblib')"
   ]
  },
  {
   "cell_type": "code",
   "execution_count": 24,
   "id": "af9beb10-2609-4ea4-ab06-4b3d9458caee",
   "metadata": {},
   "outputs": [
    {
     "name": "stdout",
     "output_type": "stream",
     "text": [
      "Train Accuracy : 0.965\n",
      "Test Accuracy : 0.940\n"
     ]
    }
   ],
   "source": [
    "print(\"Train Accuracy : {:.3f}\".format(saved_svc.score(train_X,train_y)))\n",
    "print(\"Test Accuracy : {:.3f}\".format(saved_svc.score(test_X,test_y)))"
   ]
  },
  {
   "cell_type": "markdown",
   "id": "alternative-water",
   "metadata": {},
   "source": [
    "### Naive Bayes ###"
   ]
  },
  {
   "cell_type": "code",
   "execution_count": 12,
   "id": "0c346716",
   "metadata": {},
   "outputs": [],
   "source": [
    "from sklearn.naive_bayes import GaussianNB"
   ]
  },
  {
   "cell_type": "code",
   "execution_count": 136,
   "id": "50ab3321",
   "metadata": {},
   "outputs": [
    {
     "name": "stderr",
     "output_type": "stream",
     "text": [
      "/Users/junghwankim/opt/anaconda3/envs/test_heroku/lib/python3.7/site-packages/sklearn/utils/validation.py:985: DataConversionWarning: A column-vector y was passed when a 1d array was expected. Please change the shape of y to (n_samples, ), for example using ravel().\n",
      "  y = column_or_1d(y, warn=True)\n"
     ]
    },
    {
     "data": {
      "text/plain": [
       "GaussianNB()"
      ]
     },
     "execution_count": 136,
     "metadata": {},
     "output_type": "execute_result"
    }
   ],
   "source": [
    "NB = GaussianNB()\n",
    "NB.fit(train_X, train_y)"
   ]
  },
  {
   "cell_type": "code",
   "execution_count": 137,
   "id": "8bc93351",
   "metadata": {},
   "outputs": [
    {
     "name": "stdout",
     "output_type": "stream",
     "text": [
      "Train Accuracy : 0.723\n",
      "Test Accuracy : 0.740\n"
     ]
    }
   ],
   "source": [
    "print(\"Train Accuracy : {:.3f}\".format(NB.score(train_X,train_y)))\n",
    "print(\"Test Accuracy : {:.3f}\".format(NB.score(test_X,test_y)))"
   ]
  },
  {
   "cell_type": "code",
   "execution_count": 15,
   "id": "84b838da",
   "metadata": {},
   "outputs": [],
   "source": [
    "#dump(NB, '../trained_models/nb.joblib')\n",
    "saved_NB = load('../trained_models/nb.joblib')"
   ]
  },
  {
   "cell_type": "code",
   "execution_count": 21,
   "id": "4f1f5ca5",
   "metadata": {},
   "outputs": [
    {
     "name": "stdout",
     "output_type": "stream",
     "text": [
      "Train Accuracy : 0.723\n",
      "Test Accuracy : 0.740\n"
     ]
    }
   ],
   "source": [
    "print(\"Train Accuracy : {:.3f}\".format(saved_NB.score(train_X,train_y)))\n",
    "print(\"Test Accuracy : {:.3f}\".format(saved_NB.score(test_X,test_y)))"
   ]
  },
  {
   "cell_type": "markdown",
   "id": "engaged-badge",
   "metadata": {},
   "source": [
    "### Neural Network ###"
   ]
  },
  {
   "cell_type": "code",
   "execution_count": null,
   "id": "following-compression",
   "metadata": {},
   "outputs": [],
   "source": []
  },
  {
   "cell_type": "markdown",
   "id": "9e1f4f52",
   "metadata": {},
   "source": [
    "### Ensemble model ###"
   ]
  },
  {
   "cell_type": "code",
   "execution_count": null,
   "id": "efe811a6",
   "metadata": {},
   "outputs": [],
   "source": []
  }
 ],
 "metadata": {
  "kernelspec": {
   "display_name": "Python 3 (ipykernel)",
   "language": "python",
   "name": "python3"
  },
  "language_info": {
   "codemirror_mode": {
    "name": "ipython",
    "version": 3
   },
   "file_extension": ".py",
   "mimetype": "text/x-python",
   "name": "python",
   "nbconvert_exporter": "python",
   "pygments_lexer": "ipython3",
   "version": "3.7.4"
  }
 },
 "nbformat": 4,
 "nbformat_minor": 5
}
