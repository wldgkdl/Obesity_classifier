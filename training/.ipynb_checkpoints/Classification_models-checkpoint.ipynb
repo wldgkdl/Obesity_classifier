{
 "cells": [
  {
   "cell_type": "markdown",
   "id": "expired-mechanics",
   "metadata": {},
   "source": [
    "# 1. Data preprocessing #"
   ]
  },
  {
   "cell_type": "code",
   "execution_count": 1,
   "id": "interesting-opera",
   "metadata": {},
   "outputs": [],
   "source": [
    "import pandas as pd\n",
    "import numpy as np\n",
    "import matplotlib.pyplot as plt\n",
    "from sklearn.model_selection import train_test_split\n",
    "from sklearn.model_selection import GroupShuffleSplit\n",
    "from sklearn.model_selection import StratifiedShuffleSplit"
   ]
  },
  {
   "cell_type": "code",
   "execution_count": 2,
   "id": "7c9621c6",
   "metadata": {},
   "outputs": [],
   "source": [
    "original_data = pd.read_csv(\"../data/500_Person_Gender_Height_Weight_Index.csv\")"
   ]
  },
  {
   "cell_type": "code",
   "execution_count": 15,
   "id": "0a15a7b2",
   "metadata": {},
   "outputs": [
    {
     "data": {
      "text/html": [
       "<div>\n",
       "<style scoped>\n",
       "    .dataframe tbody tr th:only-of-type {\n",
       "        vertical-align: middle;\n",
       "    }\n",
       "\n",
       "    .dataframe tbody tr th {\n",
       "        vertical-align: top;\n",
       "    }\n",
       "\n",
       "    .dataframe thead th {\n",
       "        text-align: right;\n",
       "    }\n",
       "</style>\n",
       "<table border=\"1\" class=\"dataframe\">\n",
       "  <thead>\n",
       "    <tr style=\"text-align: right;\">\n",
       "      <th></th>\n",
       "      <th>Gender</th>\n",
       "      <th>Height</th>\n",
       "      <th>Weight</th>\n",
       "      <th>Index</th>\n",
       "    </tr>\n",
       "  </thead>\n",
       "  <tbody>\n",
       "    <tr>\n",
       "      <th>0</th>\n",
       "      <td>Male</td>\n",
       "      <td>174</td>\n",
       "      <td>96</td>\n",
       "      <td>4</td>\n",
       "    </tr>\n",
       "    <tr>\n",
       "      <th>1</th>\n",
       "      <td>Male</td>\n",
       "      <td>189</td>\n",
       "      <td>87</td>\n",
       "      <td>2</td>\n",
       "    </tr>\n",
       "    <tr>\n",
       "      <th>2</th>\n",
       "      <td>Female</td>\n",
       "      <td>185</td>\n",
       "      <td>110</td>\n",
       "      <td>4</td>\n",
       "    </tr>\n",
       "    <tr>\n",
       "      <th>3</th>\n",
       "      <td>Female</td>\n",
       "      <td>195</td>\n",
       "      <td>104</td>\n",
       "      <td>3</td>\n",
       "    </tr>\n",
       "    <tr>\n",
       "      <th>4</th>\n",
       "      <td>Male</td>\n",
       "      <td>149</td>\n",
       "      <td>61</td>\n",
       "      <td>3</td>\n",
       "    </tr>\n",
       "  </tbody>\n",
       "</table>\n",
       "</div>"
      ],
      "text/plain": [
       "   Gender  Height  Weight  Index\n",
       "0    Male     174      96      4\n",
       "1    Male     189      87      2\n",
       "2  Female     185     110      4\n",
       "3  Female     195     104      3\n",
       "4    Male     149      61      3"
      ]
     },
     "execution_count": 15,
     "metadata": {},
     "output_type": "execute_result"
    }
   ],
   "source": [
    "original_data.head()"
   ]
  },
  {
   "cell_type": "code",
   "execution_count": 20,
   "id": "6050b1ec",
   "metadata": {},
   "outputs": [],
   "source": [
    "index_info = ['Extremly weak', 'Weak', 'Normal', \n",
    "              'Overweight','Obesity','Extreme obesity']"
   ]
  },
  {
   "cell_type": "code",
   "execution_count": 28,
   "id": "de1486ea",
   "metadata": {},
   "outputs": [
    {
     "name": "stdout",
     "output_type": "stream",
     "text": [
      "Extremly weak: 0.026\n",
      "Weak: 0.044\n",
      "Normal: 0.138\n",
      "Overweight: 0.136\n",
      "Obesity: 0.26\n",
      "Extreme obesity: 0.396\n"
     ]
    }
   ],
   "source": [
    "total_ratio = original_data['Index'].value_counts()/len(original_data['Index'])\n",
    "for i in range(len(total_ratio)):\n",
    "    print(index_info[i] + \": \" + str(total_ratio[i]))"
   ]
  },
  {
   "cell_type": "code",
   "execution_count": 31,
   "id": "5f35867f",
   "metadata": {},
   "outputs": [],
   "source": []
  },
  {
   "cell_type": "code",
   "execution_count": 32,
   "id": "663872b8",
   "metadata": {},
   "outputs": [
    {
     "name": "stdout",
     "output_type": "stream",
     "text": [
      " \n",
      "show the boolean Dataframe : \n",
      "\n",
      "      Gender  Height  Weight  Index\n",
      "0     False   False   False  False\n",
      "1     False   False   False  False\n",
      "2     False   False   False  False\n",
      "3     False   False   False  False\n",
      "4     False   False   False  False\n",
      "..      ...     ...     ...    ...\n",
      "495   False   False   False  False\n",
      "496   False   False   False  False\n",
      "497   False   False   False  False\n",
      "498   False   False   False  False\n",
      "499   False   False   False  False\n",
      "\n",
      "[500 rows x 4 columns]\n",
      " \n",
      "Count total NaN at each column in a DataFrame : \n",
      "\n",
      " Gender    0\n",
      "Height    0\n",
      "Weight    0\n",
      "Index     0\n",
      "dtype: int64\n"
     ]
    }
   ],
   "source": [
    "print(\" \\nshow the boolean Dataframe : \\n\\n\", original_data.isnull())\n",
    "  \n",
    "# Count total NaN at each column in a DataFrame\n",
    "print(\" \\nCount total NaN at each column in a DataFrame : \\n\\n\",\n",
    "      original_data.isnull().sum())"
   ]
  },
  {
   "cell_type": "code",
   "execution_count": 6,
   "id": "8e7508d0",
   "metadata": {},
   "outputs": [],
   "source": [
    "split = StratifiedShuffleSplit(n_splits=1, test_size=0.2, random_state=1004)\n",
    "for train_idx, test_idx in split.split(original_data, original_data['Index']):\n",
    "    train = original_data.loc[train_idx]\n",
    "    test = original_data.loc[test_idx]"
   ]
  },
  {
   "cell_type": "code",
   "execution_count": 29,
   "id": "e28ba413",
   "metadata": {},
   "outputs": [
    {
     "name": "stdout",
     "output_type": "stream",
     "text": [
      "Extremly weak: 0.03\n",
      "Weak: 0.04\n",
      "Normal: 0.14\n",
      "Overweight: 0.14\n",
      "Obesity: 0.26\n",
      "Extreme obesity: 0.39\n"
     ]
    }
   ],
   "source": [
    "test_ratio = test['Index'].value_counts()/len(test['Index'])\n",
    "for i in range(len(test_ratio)):\n",
    "    print(index_info[i] + \": \" + str(test_ratio[i]))"
   ]
  },
  {
   "cell_type": "code",
   "execution_count": 30,
   "id": "4b1c40e8",
   "metadata": {},
   "outputs": [
    {
     "data": {
      "text/plain": [
       "0   -0.004\n",
       "1    0.004\n",
       "2   -0.002\n",
       "3   -0.004\n",
       "4    0.000\n",
       "5    0.006\n",
       "Name: Index, dtype: float64"
      ]
     },
     "execution_count": 30,
     "metadata": {},
     "output_type": "execute_result"
    }
   ],
   "source": [
    "group_ratio_diff = total_ratio - test_ratio\n",
    "group_ratio_diff"
   ]
  },
  {
   "cell_type": "code",
   "execution_count": 14,
   "id": "ddd6752d",
   "metadata": {},
   "outputs": [],
   "source": [
    "train_X = train.iloc[:, 0:3]\n",
    "train_y = train.iloc[:, 3:]\n",
    "test_X = test.iloc[:, 0:3]\n",
    "test_y = test.iloc[:, 3:]"
   ]
  },
  {
   "cell_type": "code",
   "execution_count": null,
   "id": "650629ee",
   "metadata": {},
   "outputs": [],
   "source": []
  },
  {
   "cell_type": "markdown",
   "id": "psychological-apple",
   "metadata": {},
   "source": [
    "# 2. Exploratoly Data Analytics #"
   ]
  },
  {
   "cell_type": "markdown",
   "id": "charitable-condition",
   "metadata": {},
   "source": [
    "# Modeling #"
   ]
  },
  {
   "cell_type": "markdown",
   "id": "fiscal-button",
   "metadata": {},
   "source": [
    "### Decision Tree ###"
   ]
  },
  {
   "cell_type": "markdown",
   "id": "satisfactory-feeding",
   "metadata": {},
   "source": [
    "### Random Forest ###"
   ]
  },
  {
   "cell_type": "markdown",
   "id": "delayed-founder",
   "metadata": {},
   "source": [
    "### Losgistic Regression ###"
   ]
  },
  {
   "cell_type": "markdown",
   "id": "vertical-judgment",
   "metadata": {},
   "source": [
    "### Support Vector Machine ###"
   ]
  },
  {
   "cell_type": "markdown",
   "id": "alternative-water",
   "metadata": {},
   "source": [
    "### Naive Bayes ###"
   ]
  },
  {
   "cell_type": "markdown",
   "id": "engaged-badge",
   "metadata": {},
   "source": [
    "### Neural Network ###"
   ]
  },
  {
   "cell_type": "code",
   "execution_count": null,
   "id": "following-compression",
   "metadata": {},
   "outputs": [],
   "source": []
  }
 ],
 "metadata": {
  "kernelspec": {
   "display_name": "Python 3 (ipykernel)",
   "language": "python",
   "name": "python3"
  },
  "language_info": {
   "codemirror_mode": {
    "name": "ipython",
    "version": 3
   },
   "file_extension": ".py",
   "mimetype": "text/x-python",
   "name": "python",
   "nbconvert_exporter": "python",
   "pygments_lexer": "ipython3",
   "version": "3.7.4"
  }
 },
 "nbformat": 4,
 "nbformat_minor": 5
}
